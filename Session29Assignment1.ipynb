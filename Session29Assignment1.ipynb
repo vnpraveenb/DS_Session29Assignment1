{
 "cells": [
  {
   "cell_type": "code",
   "execution_count": 1,
   "metadata": {
    "ExecuteTime": {
     "end_time": "2018-08-25T19:20:38.903421Z",
     "start_time": "2018-08-25T19:20:38.900426Z"
    }
   },
   "outputs": [],
   "source": [
    "# In this assignment students have to find the frequency of words in a webpage. User can use urllib and BeautifulSoup to extract \n",
    "# text from webpage.\n",
    "\n",
    "# Hint:\n",
    "#     from bs4 import BeautifulSoup\n",
    "#     import urllib.request\n",
    "#     import nltk\n",
    "#     response = urllib.request.urlopen('http://php.net/')\n",
    "#     html = response.read()\n",
    "#     soup = BeautifulSoup(html,\"html5lib\")"
   ]
  },
  {
   "cell_type": "markdown",
   "metadata": {},
   "source": [
    "# Import Libraries"
   ]
  },
  {
   "cell_type": "code",
   "execution_count": 2,
   "metadata": {
    "ExecuteTime": {
     "end_time": "2018-08-25T19:20:40.085333Z",
     "start_time": "2018-08-25T19:20:38.952290Z"
    }
   },
   "outputs": [],
   "source": [
    "from bs4 import BeautifulSoup\n",
    "import urllib.request\n",
    "import string\n",
    "import nltk\n",
    "from collections import Counter\n",
    "import matplotlib.pyplot as plt\n"
   ]
  },
  {
   "cell_type": "markdown",
   "metadata": {
    "ExecuteTime": {
     "end_time": "2018-08-24T12:14:11.810575Z",
     "start_time": "2018-08-24T12:14:11.805794Z"
    }
   },
   "source": [
    "# Get Raw Text"
   ]
  },
  {
   "cell_type": "code",
   "execution_count": 3,
   "metadata": {
    "ExecuteTime": {
     "end_time": "2018-08-25T19:20:41.382565Z",
     "start_time": "2018-08-25T19:20:40.088267Z"
    }
   },
   "outputs": [],
   "source": [
    "response = urllib.request.urlopen('http://php.net/')\n",
    "html = response.read()\n",
    "soup = BeautifulSoup(html,\"html5lib\")"
   ]
  },
  {
   "cell_type": "code",
   "execution_count": 4,
   "metadata": {
    "ExecuteTime": {
     "end_time": "2018-08-25T19:20:41.397528Z",
     "start_time": "2018-08-25T19:20:41.383543Z"
    }
   },
   "outputs": [
    {
     "name": "stdout",
     "output_type": "stream",
     "text": [
      "19228\n"
     ]
    },
    {
     "data": {
      "text/plain": [
       "\"\\n\\n  \\n   \\n\\n  PHP: Hypertext Preprocessor\\n\\n \\n \\n \\n \\n\\n \\n \\n \\n\\n\\n\\n\\n\\n\\n\\n\\n\\n \\n\\n \\n\\n \\n\\n \\n\\n \\n\\n\\n\\n\\n\\n  \\n    \\n    \\n    \\n    \\n      Downloads\\n      Documentation\\n      Get Involved\\n      Help\\n    \\n    \\n      \\n      \\n    \\n  \\n  \\n\\n\\nGetting Started\\n\\tIntroduction\\n\\tA simple tutorial\\nLanguage Reference\\n\\tBasic syntax\\n\\tTypes\\n\\tVariables\\n\\tConstants\\n\\tExpressions\\n\\tOperators\\n\\tControl Structures\\n\\tFunctions\\n\\tClasses and Objects\\n\\tNamespaces\\n\\tErrors\\n\\tExceptions\\n\\tGenerators\\n\\tReferences Explained\\n\\tPredefined Variables\\n\\tPredefined Exceptions\\n\\tPredefined Interfaces and Classes\\n\\tContext options and parameters\\n\\tSupported Protocols and Wrappers\\n\\n\\nSecurity\\n\\tIntroduction\\n\\tGeneral considerations\\n\\tInstalled as CGI binary\\n\\tInstalled as an Apache module\\n\\tSession Security\\n\\tFilesystem Security\\n\\tDatabase Security\\n\\tError Reporting\\n\\tUsing Register Globals\\n\\tUser Submitted Data\\n\\tMagic Quotes\\n\\tHiding PHP\\n\\tKeeping Current\\nFeatures\\n\\tHTTP authentication with PHP\\n\\tCookies\\n\\tSessions\\n\\tDealing with XForms\\n\\tHandling file uploads\\n\\tUsing remote files\\n\\tConnection handling\\n\\tPersistent Database Connections\\n\\tSafe Mode\\n\\tCommand line usage\\n\\tGarbage Collection\\n\\tDTrace Dynamic Tracing\\n\\n\\nFunction Reference\\n\\tAffecting PHP's Behaviour\\n\\tAudio Formats Manipulation\\n\\tAuthentication Services\\n\\tCommand Line Specific Extensions\\n\\tCompression and Archive Extensions\\n\\tCredit Card Processing\\n\\tCryptography Extensions\\n\\tDatabase Extensions\\n\\tDate and Time Related Extensions\\n\\tFile System Related Extensions\\n\\tHuman Language and Character Encoding Support\\n\\tImage Processing and Generation\\n\\tMail Related Extensions\\n\\tMathematical Extensions\\n\\tNon-Text MIME Output\\n\\tProcess Control Extensions\\n\\tOther Basic Extensions\\n\\tOther Services\\n\\tSearch Engine Extensions\\n\\tServer Specific Extensions\\n\\tSession Extensions\\n\\tText Processing\\n\\tVariable and Type Related Extensions\\n\\tWeb Services\\n\\tWindows Only Extensions\\n\\tXML Manipulation\\n\\tGUI Extensions\\n\\n\\nKeyboard Shortcuts?\\nThis help\\nj\\nNext menu item\\nk\\nPrevious menu item\\ng p\\nPrevious man page\\ng n\\nNext man page\\nG\\nScroll to bottom\\ng g\\nScroll to top\\ng h\\nGoto homepage\\ng s\\nGoto search(current page)\\n/\\nFocus search box\\n\\n\\n    \\n         \\n         \\n   \\n\\n\\n\\n\\n\\n  \\n      \\n    \\n      PHP is a popular general-purpose scripting language that is especially suited to web development.\\n      Fast, flexible and pragmatic, PHP powers everything from your blog to the most popular websites in the world.\\n    \\n    \\n      Download\\n\\n            5.6.37·Release Notes·Upgrading\\n\\n            7.0.31·Release Notes·Upgrading\\n\\n            7.1.21·Release Notes·Upgrading\\n\\n            7.2.9·Release Notes·Upgrading\\n\\n    \\n    \\n\\n\\n\\n\\n  \\n\\n  \\n    17 Aug 2018\\n    \\n      PHP 7.1.21 Released\\n    \\n  \\n  \\n    \\n         The PHP development team announces the immediate availability of PHP\\n          7.1.21. This is a bugfix release.\\n     \\n          All PHP 7.1 users are encouraged to upgrade to this version.\\n          \\n     \\n          For source downloads of PHP 7.1.21 please visit our downloads page,\\n          Windows source and binaries can be found on windows.php.net/download/.\\n          The list of changes is recorded in the ChangeLog.\\n          \\n    \\n  \\n  \\n\\n  \\n    16 Aug 2018\\n    \\n      PHP 7.2.9 Released\\n    \\n  \\n  \\n    \\n     The PHP development team announces the immediate availability of PHP\\n     7.2.9. This is a bugfix release.\\n     \\n     All PHP 7.2 users are encouraged to upgrade to this version.\\n\\n     For source downloads of PHP 7.2.9 please visit our downloads page,\\n     Windows source and binaries can be found on windows.php.net/download/.\\n     The list of changes is recorded in the ChangeLog.\\n     \\n    \\n  \\n  \\n\\n  \\n    16 Aug 2018\\n    \\n      PHP 7.3.0.beta2 Released\\n    \\n  \\n  \\n    \\n      \\n        The PHP team is glad to announce the release of the sixth PHP 7.3.0 version, PHP 7.3.0beta2.\\n        The rough outline of the PHP 7.3 release cycle is specified in the\\n        PHP Wiki.\\n      \\n\\n      \\n        For source downloads of PHP 7.3.0beta2 please visit the download page.\\n        Windows sources and binaries can be found on windows.php.net/qa/.\\n      \\n\\n      \\n        Please carefully test this version and report any issues found in the bug reporting system.\\n      \\n\\n      \\n        THIS IS A DEVELOPMENT PREVIEW - DO NOT USE IT IN PRODUCTION!\\n      \\n\\n      \\n        For more information on the new features and other changes, you can read the\\n        NEWS file,\\n        or the UPGRADING\\n        file for a complete list of upgrading notes. Internal changes are listed in the\\n        UPGRADING.INTERNALS file.\\n        These files can also be found in the release archive.\\n      \\n\\n      \\n        The next release would be Beta 3, planned for August 30th.\\n      \\n\\n      \\n        The signatures for the release can be found in the manifest\\n        or on the QA site.\\n      \\n\\n      \\n        Thank you for helping us make PHP better.\\n      \\n    \\n  \\n  \\n\\n  \\n    02 Aug 2018\\n    \\n      PHP 7.3.0.beta1 Released\\n    \\n  \\n  \\n    \\n      \\n        The PHP team is glad to announce the release of the fifth PHP 7.3.0 version, PHP 7.3.0beta1.\\n        The rough outline of the PHP 7.3 release cycle is specified in the\\n        PHP Wiki.\\n      \\n\\n      \\n        For source downloads of PHP 7.3.0beta1 please visit the download page.\\n        Windows sources and binaries can be found on windows.php.net/qa/.\\n      \\n\\n      \\n        Please carefully test this version and report any issues found in the bug reporting system.\\n      \\n\\n      \\n        THIS IS A DEVELOPMENT PREVIEW - DO NOT USE IT IN PRODUCTION!\\n      \\n\\n      \\n        For more information on the new features and other changes, you can read the\\n        NEWS file,\\n        or the UPGRADING\\n        file for a complete list of upgrading notes. These files can also be found in the release archive.\\n      \\n\\n      \\n        The next release would be Beta 2, planned for August 16th.\\n      \\n\\n      \\n        The signatures for the release can be found in the manifest\\n        or on the QA site.\\n      \\n\\n      \\n        Thank you for helping us make PHP better.\\n      \\n\\n    \\n  \\n  \\n\\n  \\n    20 Jul 2018\\n    \\n      PHP 7.1.20 Released\\n    \\n  \\n  \\n    \\n         The PHP development team announces the immediate availability of PHP\\n          7.1.20. This is a security release. Several security bugs have been fixed\\n          in this release.\\n     \\n          All PHP 7.1 users are encouraged to upgrade to this version.\\n          \\n     \\n          For source downloads of PHP 7.1.20 please visit our downloads page,\\n          Windows source and binaries can be found on windows.php.net/download/.\\n          The list of changes is recorded in the ChangeLog.\\n          \\n    \\n  \\n  \\n\\n  \\n    20 Jul 2018\\n    \\n      PHP 5.6.37 Released\\n    \\n  \\n  \\n    \\n     The PHP development team announces the immediate availability of PHP\\n        5.6.37. This is a security release. Several security bugs have been fixed\\n        in this release.\\n\\n     All PHP 5.6 users are encouraged to upgrade to this version.\\n\\n     For source downloads of PHP 5.6.37 please visit our downloads page,\\n     Windows source and binaries can be found on windows.php.net/download/.\\n     The list of changes is recorded in the ChangeLog.\\n     \\n    \\n  \\n  \\n\\n  \\n    19 Jul 2018\\n    \\n      PHP 7.0.31 Released\\n    \\n  \\n  \\n    \\n     The PHP development team announces the immediate availability of PHP\\n\\t7.0.31. This is a security release. Several security bugs have been fixed\\n\\tin this release.\\n     \\n     All PHP 7.0 users are encouraged to upgrade to this version.\\n\\n     For source downloads of PHP 7.0.31 please visit our downloads page,\\n     Windows source and binaries can be found on windows.php.net/download/.\\n     The list of changes is recorded in the ChangeLog.\\n     \\n    \\n  \\n  \\n\\n  \\n    19 Jul 2018\\n    \\n      PHP 7.2.8 Released\\n    \\n  \\n  \\n    \\n     The PHP development team announces the immediate availability of PHP\\n     7.2.8. This is a security release which also contains several minor bug fixes.\\n     \\n     All PHP 7.2 users are encouraged to upgrade to this version.\\n\\n     For source downloads of PHP 7.2.8 please visit our downloads page,\\n     Windows source and binaries can be found on windows.php.net/download/.\\n     The list of changes is recorded in the ChangeLog.\\n     \\n    \\n  \\n  \\n\\n  \\n    19 Jul 2018\\n    \\n      PHP 7.3.0alpha4 Released\\n    \\n  \\n  \\n    \\n      \\n        The PHP team is glad to announce the release of the fourth PHP 7.3.0 version, PHP 7.3.0alpha4.\\n        The rough outline of the PHP 7.3 release cycle is specified in the\\n        PHP Wiki.\\n      \\n\\n      \\n        For source downloads of PHP 7.3.0alpha4 please visit the download page.\\n        Windows sources and binaries can be found on windows.php.net/qa/.\\n      \\n\\n      \\n        Please carefully test this version and report any issues found in the bug reporting system.\\n      \\n\\n      \\n        THIS IS A DEVELOPMENT PREVIEW - DO NOT USE IT IN PRODUCTION!\\n      \\n\\n      \\n        For more information on the new features and other changes, you can read the\\n        NEWS file,\\n        or the UPGRADING\\n        file for a complete list of upgrading notes. These files can also be found in the release archive.\\n      \\n\\n      \\n        The next release would be Beta 1, planned for August 2nd.\\n      \\n\\n      \\n        The signatures for the release can be found in the manifest or on the QA site.\\n      \\n\\n      \\n        Thank you for helping us make PHP better.\\n      \\n    \\n  \\n  \\n\\n  \\n    05 Jul 2018\\n    \\n      PHP 7.3.0 alpha 3 Released\\n    \\n  \\n  \\n    \\n     \\n      The PHP team is glad to announce the release of the third PHP 7.3.0 version, PHP 7.3.0 Alpha 3. \\n      The rough outline of the PHP 7.3 release cycle is specified in the \\n      PHP Wiki.\\n     \\n\\n     \\n      For source downloads of PHP 7.3.0 Alpha 3 please visit the download page.\\n      Windows sources and binaries can be found on windows.php.net/qa/.\\n     \\n\\n     \\n      Please carefully test this version and report any issues found in the bug reporting system.\\n     \\n\\n     \\n      THIS IS A DEVELOPMENT PREVIEW - DO NOT USE IT IN PRODUCTION!\\n     \\n\\n     \\n      For more information on the new features and other cha\""
      ]
     },
     "execution_count": 4,
     "metadata": {},
     "output_type": "execute_result"
    }
   ],
   "source": [
    "text = soup.getText()\n",
    "print(len(text))\n",
    "text[:10000]"
   ]
  },
  {
   "cell_type": "markdown",
   "metadata": {},
   "source": [
    "# Clean the Text"
   ]
  },
  {
   "cell_type": "code",
   "execution_count": 5,
   "metadata": {
    "ExecuteTime": {
     "end_time": "2018-08-25T19:20:41.407488Z",
     "start_time": "2018-08-25T19:20:41.399504Z"
    }
   },
   "outputs": [
    {
     "name": "stdout",
     "output_type": "stream",
     "text": [
      "19228\n"
     ]
    },
    {
     "data": {
      "text/plain": [
       "\"\\n\\n  \\n   \\n\\n  PHP: Hypertext Preprocessor\\n\\n \\n \\n \\n \\n\\n \\n \\n \\n\\n\\n\\n\\n\\n\\n\\n\\n\\n \\n\\n \\n\\n \\n\\n \\n\\n \\n\\n\\n\\n\\n\\n  \\n    \\n    \\n    \\n    \\n      Downloads\\n      Documentation\\n      Get Involved\\n      Help\\n    \\n    \\n      \\n      \\n    \\n  \\n  \\n\\n\\nGetting Started\\n\\tIntroduction\\n\\tA simple tutorial\\nLanguage Reference\\n\\tBasic syntax\\n\\tTypes\\n\\tVariables\\n\\tConstants\\n\\tExpressions\\n\\tOperators\\n\\tControl Structures\\n\\tFunctions\\n\\tClasses and Objects\\n\\tNamespaces\\n\\tErrors\\n\\tExceptions\\n\\tGenerators\\n\\tReferences Explained\\n\\tPredefined Variables\\n\\tPredefined Exceptions\\n\\tPredefined Interfaces and Classes\\n\\tContext options and parameters\\n\\tSupported Protocols and Wrappers\\n\\n\\nSecurity\\n\\tIntroduction\\n\\tGeneral considerations\\n\\tInstalled as CGI binary\\n\\tInstalled as an Apache module\\n\\tSession Security\\n\\tFilesystem Security\\n\\tDatabase Security\\n\\tError Reporting\\n\\tUsing Register Globals\\n\\tUser Submitted Data\\n\\tMagic Quotes\\n\\tHiding PHP\\n\\tKeeping Current\\nFeatures\\n\\tHTTP authentication with PHP\\n\\tCookies\\n\\tSessions\\n\\tDealing with XForms\\n\\tHandling file uploads\\n\\tUsing remote files\\n\\tConnection handling\\n\\tPersistent Database Connections\\n\\tSafe Mode\\n\\tCommand line usage\\n\\tGarbage Collection\\n\\tDTrace Dynamic Tracing\\n\\n\\nFunction Reference\\n\\tAffecting PHP's Behaviour\\n\\tAudio Formats Manipulation\\n\\tAuthentication Services\\n\\tCommand Line Specific Extensions\\n\\tCompression and Archive Extensions\\n\\tCredit Card Processing\\n\\tCryptography Extensions\\n\\tDatabase Extensions\\n\\tDate and Time Related Extensions\\n\\tFile System Related Extensions\\n\\tHuman Language and Character Encoding Support\\n\\tImage Processing and Generation\\n\\tMail Related Extensions\\n\\tMathematical Extensions\\n\\tNon-Text MIME Output\\n\\tProcess Control Extensions\\n\\tOther Basic Extensions\\n\\tOther Services\\n\\tSearch Engine Extensions\\n\\tServer Specific Extensions\\n\\tSession Extensions\\n\\tText Processing\\n\\tVariable and Type Related Extensions\\n\\tWeb Services\\n\\tWindows Only Extensions\\n\\tXML Manipulation\\n\\tGUI Extensions\\n\\n\\nKeyboard Shortcuts?\\nThis help\\nj\\nNext menu item\\nk\\nPrevious menu item\\ng p\\nPrevious man page\\ng n\\nNext man page\\nG\\nScroll to bottom\\ng g\\nScroll to top\\ng h\\nGoto homepage\\ng s\\nGoto search(current page)\\n/\\nFocus search box\\n\\n\\n    \\n         \\n         \\n   \\n\\n\\n\\n\\n\\n  \\n      \\n    \\n      PHP is a popular general-purpose scripting language that is especially suited to web development.\\n      Fast, flexible and pragmatic, PHP powers everything from your blog to the most popular websites in the world.\\n    \\n    \\n      Download\\n\\n            5.6.37 Release Notes Upgrading\\n\\n            7.0.31 Release Notes Upgrading\\n\\n            7.1.21 Release Notes Upgrading\\n\\n            7.2.9 Release Notes Upgrading\\n\\n    \\n    \\n\\n\\n\\n\\n  \\n\\n  \\n    17 Aug 2018\\n    \\n      PHP 7.1.21 Released\\n    \\n  \\n  \\n    \\n         The PHP development team announces the immediate availability of PHP\\n          7.1.21. This is a bugfix release.\\n     \\n          All PHP 7.1 users are encouraged to upgrade to this version.\\n          \\n     \\n          For source downloads of PHP 7.1.21 please visit our downloads page,\\n          Windows source and binaries can be found on windows.php.net/download/.\\n          The list of changes is recorded in the ChangeLog.\\n          \\n    \\n  \\n  \\n\\n  \\n    16 Aug 2018\\n    \\n      PHP 7.2.9 Released\\n    \\n  \\n  \\n    \\n     The PHP development team announces the immediate availability of PHP\\n     7.2.9. This is a bugfix release.\\n     \\n     All PHP 7.2 users are encouraged to upgrade to this version.\\n\\n     For source downloads of PHP 7.2.9 please visit our downloads page,\\n     Windows source and binaries can be found on windows.php.net/download/.\\n     The list of changes is recorded in the ChangeLog.\\n     \\n    \\n  \\n  \\n\\n  \\n    16 Aug 2018\\n    \\n      PHP 7.3.0.beta2 Released\\n    \\n  \\n  \\n    \\n      \\n        The PHP team is glad to announce the release of the sixth PHP 7.3.0 version, PHP 7.3.0beta2.\\n        The rough outline of the PHP 7.3 release cycle is specified in the\\n        PHP Wiki.\\n      \\n\\n      \\n        For source downloads of PHP 7.3.0beta2 please visit the download page.\\n        Windows sources and binaries can be found on windows.php.net/qa/.\\n      \\n\\n      \\n        Please carefully test this version and report any issues found in the bug reporting system.\\n      \\n\\n      \\n        THIS IS A DEVELOPMENT PREVIEW - DO NOT USE IT IN PRODUCTION!\\n      \\n\\n      \\n        For more information on the new features and other changes, you can read the\\n        NEWS file,\\n        or the UPGRADING\\n        file for a complete list of upgrading notes. Internal changes are listed in the\\n        UPGRADING.INTERNALS file.\\n        These files can also be found in the release archive.\\n      \\n\\n      \\n        The next release would be Beta 3, planned for August 30th.\\n      \\n\\n      \\n        The signatures for the release can be found in the manifest\\n        or on the QA site.\\n      \\n\\n      \\n        Thank you for helping us make PHP better.\\n      \\n    \\n  \\n  \\n\\n  \\n    02 Aug 2018\\n    \\n      PHP 7.3.0.beta1 Released\\n    \\n  \\n  \\n    \\n      \\n        The PHP team is glad to announce the release of the fifth PHP 7.3.0 version, PHP 7.3.0beta1.\\n        The rough outline of the PHP 7.3 release cycle is specified in the\\n        PHP Wiki.\\n      \\n\\n      \\n        For source downloads of PHP 7.3.0beta1 please visit the download page.\\n        Windows sources and binaries can be found on windows.php.net/qa/.\\n      \\n\\n      \\n        Please carefully test this version and report any issues found in the bug reporting system.\\n      \\n\\n      \\n        THIS IS A DEVELOPMENT PREVIEW - DO NOT USE IT IN PRODUCTION!\\n      \\n\\n      \\n        For more information on the new features and other changes, you can read the\\n        NEWS file,\\n        or the UPGRADING\\n        file for a complete list of upgrading notes. These files can also be found in the release archive.\\n      \\n\\n      \\n        The next release would be Beta 2, planned for August 16th.\\n      \\n\\n      \\n        The signatures for the release can be found in the manifest\\n        or on the QA site.\\n      \\n\\n      \\n        Thank you for helping us make PHP better.\\n      \\n\\n    \\n  \\n  \\n\\n  \\n    20 Jul 2018\\n    \\n      PHP 7.1.20 Released\\n    \\n  \\n  \\n    \\n         The PHP development team announces the immediate availability of PHP\\n          7.1.20. This is a security release. Several security bugs have been fixed\\n          in this release.\\n     \\n          All PHP 7.1 users are encouraged to upgrade to this version.\\n          \\n     \\n          For source downloads of PHP 7.1.20 please visit our downloads page,\\n          Windows source and binaries can be found on windows.php.net/download/.\\n          The list of changes is recorded in the ChangeLog.\\n          \\n    \\n  \\n  \\n\\n  \\n    20 Jul 2018\\n    \\n      PHP 5.6.37 Released\\n    \\n  \\n  \\n    \\n     The PHP development team announces the immediate availability of PHP\\n        5.6.37. This is a security release. Several security bugs have been fixed\\n        in this release.\\n\\n     All PHP 5.6 users are encouraged to upgrade to this version.\\n\\n     For source downloads of PHP 5.6.37 please visit our downloads page,\\n     Windows source and binaries can be found on windows.php.net/download/.\\n     The list of changes is recorded in the ChangeLog.\\n     \\n    \\n  \\n  \\n\\n  \\n    19 Jul 2018\\n    \\n      PHP 7.0.31 Released\\n    \\n  \\n  \\n    \\n     The PHP development team announces the immediate availability of PHP\\n\\t7.0.31. This is a security release. Several security bugs have been fixed\\n\\tin this release.\\n     \\n     All PHP 7.0 users are encouraged to upgrade to this version.\\n\\n     For source downloads of PHP 7.0.31 please visit our downloads page,\\n     Windows source and binaries can be found on windows.php.net/download/.\\n     The list of changes is recorded in the ChangeLog.\\n     \\n    \\n  \\n  \\n\\n  \\n    19 Jul 2018\\n    \\n      PHP 7.2.8 Released\\n    \\n  \\n  \\n    \\n     The PHP development team announces the immediate availability of PHP\\n     7.2.8. This is a security release which also contains several minor bug fixes.\\n     \\n     All PHP 7.2 users are encouraged to upgrade to this version.\\n\\n     For source downloads of PHP 7.2.8 please visit our downloads page,\\n     Windows source and binaries can be found on windows.php.net/download/.\\n     The list of changes is recorded in the ChangeLog.\\n     \\n    \\n  \\n  \\n\\n  \\n    19 Jul 2018\\n    \\n      PHP 7.3.0alpha4 Released\\n    \\n  \\n  \\n    \\n      \\n        The PHP team is glad to announce the release of the fourth PHP 7.3.0 version, PHP 7.3.0alpha4.\\n        The rough outline of the PHP 7.3 release cycle is specified in the\\n        PHP Wiki.\\n      \\n\\n      \\n        For source downloads of PHP 7.3.0alpha4 please visit the download page.\\n        Windows sources and binaries can be found on windows.php.net/qa/.\\n      \\n\\n      \\n        Please carefully test this version and report any issues found in the bug reporting system.\\n      \\n\\n      \\n        THIS IS A DEVELOPMENT PREVIEW - DO NOT USE IT IN PRODUCTION!\\n      \\n\\n      \\n        For more information on the new features and other changes, you can read the\\n        NEWS file,\\n        or the UPGRADING\\n        file for a complete list of upgrading notes. These files can also be found in the release archive.\\n      \\n\\n      \\n        The next release would be Beta 1, planned for August 2nd.\\n      \\n\\n      \\n        The signatures for the release can be found in the manifest or on the QA site.\\n      \\n\\n      \\n        Thank you for helping us make PHP better.\\n      \\n    \\n  \\n  \\n\\n  \\n    05 Jul 2018\\n    \\n      PHP 7.3.0 alpha 3 Released\\n    \\n  \\n  \\n    \\n     \\n      The PHP team is glad to announce the release of the third PHP 7.3.0 version, PHP 7.3.0 Alpha 3. \\n      The rough outline of the PHP 7.3 release cycle is specified in the \\n      PHP Wiki.\\n     \\n\\n     \\n      For source downloads of PHP 7.3.0 Alpha 3 please visit the download page.\\n      Windows sources and binaries can be found on windows.php.net/qa/.\\n     \\n\\n     \\n      Please carefully test this version and report any issues found in the bug reporting system.\\n     \\n\\n     \\n      THIS IS A DEVELOPMENT PREVIEW - DO NOT USE IT IN PRODUCTION!\\n     \\n\\n     \\n      For more information on the new features and other cha\""
      ]
     },
     "execution_count": 5,
     "metadata": {},
     "output_type": "execute_result"
    }
   ],
   "source": [
    "# Replace MIDDLE DOT with space  \n",
    "\n",
    "text_bullets_replaced= text.replace(u\"\\u00B7\",\" \") # Unicode Character 'MIDDLE DOT' (U+00B7)\n",
    "\n",
    "print(len(text_bullets_replaced))\n",
    "text_bullets_replaced[:10000]"
   ]
  },
  {
   "cell_type": "code",
   "execution_count": 6,
   "metadata": {
    "ExecuteTime": {
     "end_time": "2018-08-25T19:20:41.422444Z",
     "start_time": "2018-08-25T19:20:41.410476Z"
    }
   },
   "outputs": [
    {
     "name": "stdout",
     "output_type": "stream",
     "text": [
      "32\n",
      "19228\n"
     ]
    },
    {
     "data": {
      "text/plain": [
       "'\\n\\n  \\n   \\n\\n  PHP  Hypertext Preprocessor\\n\\n \\n \\n \\n \\n\\n \\n \\n \\n\\n\\n\\n\\n\\n\\n\\n\\n\\n \\n\\n \\n\\n \\n\\n \\n\\n \\n\\n\\n\\n\\n\\n  \\n    \\n    \\n    \\n    \\n      Downloads\\n      Documentation\\n      Get Involved\\n      Help\\n    \\n    \\n      \\n      \\n    \\n  \\n  \\n\\n\\nGetting Started\\n\\tIntroduction\\n\\tA simple tutorial\\nLanguage Reference\\n\\tBasic syntax\\n\\tTypes\\n\\tVariables\\n\\tConstants\\n\\tExpressions\\n\\tOperators\\n\\tControl Structures\\n\\tFunctions\\n\\tClasses and Objects\\n\\tNamespaces\\n\\tErrors\\n\\tExceptions\\n\\tGenerators\\n\\tReferences Explained\\n\\tPredefined Variables\\n\\tPredefined Exceptions\\n\\tPredefined Interfaces and Classes\\n\\tContext options and parameters\\n\\tSupported Protocols and Wrappers\\n\\n\\nSecurity\\n\\tIntroduction\\n\\tGeneral considerations\\n\\tInstalled as CGI binary\\n\\tInstalled as an Apache module\\n\\tSession Security\\n\\tFilesystem Security\\n\\tDatabase Security\\n\\tError Reporting\\n\\tUsing Register Globals\\n\\tUser Submitted Data\\n\\tMagic Quotes\\n\\tHiding PHP\\n\\tKeeping Current\\nFeatures\\n\\tHTTP authentication with PHP\\n\\tCookies\\n\\tSessions\\n\\tDealing with XForms\\n\\tHandling file uploads\\n\\tUsing remote files\\n\\tConnection handling\\n\\tPersistent Database Connections\\n\\tSafe Mode\\n\\tCommand line usage\\n\\tGarbage Collection\\n\\tDTrace Dynamic Tracing\\n\\n\\nFunction Reference\\n\\tAffecting PHP s Behaviour\\n\\tAudio Formats Manipulation\\n\\tAuthentication Services\\n\\tCommand Line Specific Extensions\\n\\tCompression and Archive Extensions\\n\\tCredit Card Processing\\n\\tCryptography Extensions\\n\\tDatabase Extensions\\n\\tDate and Time Related Extensions\\n\\tFile System Related Extensions\\n\\tHuman Language and Character Encoding Support\\n\\tImage Processing and Generation\\n\\tMail Related Extensions\\n\\tMathematical Extensions\\n\\tNon Text MIME Output\\n\\tProcess Control Extensions\\n\\tOther Basic Extensions\\n\\tOther Services\\n\\tSearch Engine Extensions\\n\\tServer Specific Extensions\\n\\tSession Extensions\\n\\tText Processing\\n\\tVariable and Type Related Extensions\\n\\tWeb Services\\n\\tWindows Only Extensions\\n\\tXML Manipulation\\n\\tGUI Extensions\\n\\n\\nKeyboard Shortcuts \\nThis help\\nj\\nNext menu item\\nk\\nPrevious menu item\\ng p\\nPrevious man page\\ng n\\nNext man page\\nG\\nScroll to bottom\\ng g\\nScroll to top\\ng h\\nGoto homepage\\ng s\\nGoto search current page \\n \\nFocus search box\\n\\n\\n    \\n         \\n         \\n   \\n\\n\\n\\n\\n\\n  \\n      \\n    \\n      PHP is a popular general purpose scripting language that is especially suited to web development \\n      Fast  flexible and pragmatic  PHP powers everything from your blog to the most popular websites in the world \\n    \\n    \\n      Download\\n\\n            5 6 37 Release Notes Upgrading\\n\\n            7 0 31 Release Notes Upgrading\\n\\n            7 1 21 Release Notes Upgrading\\n\\n            7 2 9 Release Notes Upgrading\\n\\n    \\n    \\n\\n\\n\\n\\n  \\n\\n  \\n    17 Aug 2018\\n    \\n      PHP 7 1 21 Released\\n    \\n  \\n  \\n    \\n         The PHP development team announces the immediate availability of PHP\\n          7 1 21  This is a bugfix release \\n     \\n          All PHP 7 1 users are encouraged to upgrade to this version \\n          \\n     \\n          For source downloads of PHP 7 1 21 please visit our downloads page \\n          Windows source and binaries can be found on windows php net download  \\n          The list of changes is recorded in the ChangeLog \\n          \\n    \\n  \\n  \\n\\n  \\n    16 Aug 2018\\n    \\n      PHP 7 2 9 Released\\n    \\n  \\n  \\n    \\n     The PHP development team announces the immediate availability of PHP\\n     7 2 9  This is a bugfix release \\n     \\n     All PHP 7 2 users are encouraged to upgrade to this version \\n\\n     For source downloads of PHP 7 2 9 please visit our downloads page \\n     Windows source and binaries can be found on windows php net download  \\n     The list of changes is recorded in the ChangeLog \\n     \\n    \\n  \\n  \\n\\n  \\n    16 Aug 2018\\n    \\n      PHP 7 3 0 beta2 Released\\n    \\n  \\n  \\n    \\n      \\n        The PHP team is glad to announce the release of the sixth PHP 7 3 0 version  PHP 7 3 0beta2 \\n        The rough outline of the PHP 7 3 release cycle is specified in the\\n        PHP Wiki \\n      \\n\\n      \\n        For source downloads of PHP 7 3 0beta2 please visit the download page \\n        Windows sources and binaries can be found on windows php net qa  \\n      \\n\\n      \\n        Please carefully test this version and report any issues found in the bug reporting system \\n      \\n\\n      \\n        THIS IS A DEVELOPMENT PREVIEW   DO NOT USE IT IN PRODUCTION \\n      \\n\\n      \\n        For more information on the new features and other changes  you can read the\\n        NEWS file \\n        or the UPGRADING\\n        file for a complete list of upgrading notes  Internal changes are listed in the\\n        UPGRADING INTERNALS file \\n        These files can also be found in the release archive \\n      \\n\\n      \\n        The next release would be Beta 3  planned for August 30th \\n      \\n\\n      \\n        The signatures for the release can be found in the manifest\\n        or on the QA site \\n      \\n\\n      \\n        Thank you for helping us make PHP better \\n      \\n    \\n  \\n  \\n\\n  \\n    02 Aug 2018\\n    \\n      PHP 7 3 0 beta1 Released\\n    \\n  \\n  \\n    \\n      \\n        The PHP team is glad to announce the release of the fifth PHP 7 3 0 version  PHP 7 3 0beta1 \\n        The rough outline of the PHP 7 3 release cycle is specified in the\\n        PHP Wiki \\n      \\n\\n      \\n        For source downloads of PHP 7 3 0beta1 please visit the download page \\n        Windows sources and binaries can be found on windows php net qa  \\n      \\n\\n      \\n        Please carefully test this version and report any issues found in the bug reporting system \\n      \\n\\n      \\n        THIS IS A DEVELOPMENT PREVIEW   DO NOT USE IT IN PRODUCTION \\n      \\n\\n      \\n        For more information on the new features and other changes  you can read the\\n        NEWS file \\n        or the UPGRADING\\n        file for a complete list of upgrading notes  These files can also be found in the release archive \\n      \\n\\n      \\n        The next release would be Beta 2  planned for August 16th \\n      \\n\\n      \\n        The signatures for the release can be found in the manifest\\n        or on the QA site \\n      \\n\\n      \\n        Thank you for helping us make PHP better \\n      \\n\\n    \\n  \\n  \\n\\n  \\n    20 Jul 2018\\n    \\n      PHP 7 1 20 Released\\n    \\n  \\n  \\n    \\n         The PHP development team announces the immediate availability of PHP\\n          7 1 20  This is a security release  Several security bugs have been fixed\\n          in this release \\n     \\n          All PHP 7 1 users are encouraged to upgrade to this version \\n          \\n     \\n          For source downloads of PHP 7 1 20 please visit our downloads page \\n          Windows source and binaries can be found on windows php net download  \\n          The list of changes is recorded in the ChangeLog \\n          \\n    \\n  \\n  \\n\\n  \\n    20 Jul 2018\\n    \\n      PHP 5 6 37 Released\\n    \\n  \\n  \\n    \\n     The PHP development team announces the immediate availability of PHP\\n        5 6 37  This is a security release  Several security bugs have been fixed\\n        in this release \\n\\n     All PHP 5 6 users are encouraged to upgrade to this version \\n\\n     For source downloads of PHP 5 6 37 please visit our downloads page \\n     Windows source and binaries can be found on windows php net download  \\n     The list of changes is recorded in the ChangeLog \\n     \\n    \\n  \\n  \\n\\n  \\n    19 Jul 2018\\n    \\n      PHP 7 0 31 Released\\n    \\n  \\n  \\n    \\n     The PHP development team announces the immediate availability of PHP\\n\\t7 0 31  This is a security release  Several security bugs have been fixed\\n\\tin this release \\n     \\n     All PHP 7 0 users are encouraged to upgrade to this version \\n\\n     For source downloads of PHP 7 0 31 please visit our downloads page \\n     Windows source and binaries can be found on windows php net download  \\n     The list of changes is recorded in the ChangeLog \\n     \\n    \\n  \\n  \\n\\n  \\n    19 Jul 2018\\n    \\n      PHP 7 2 8 Released\\n    \\n  \\n  \\n    \\n     The PHP development team announces the immediate availability of PHP\\n     7 2 8  This is a security release which also contains several minor bug fixes \\n     \\n     All PHP 7 2 users are encouraged to upgrade to this version \\n\\n     For source downloads of PHP 7 2 8 please visit our downloads page \\n     Windows source and binaries can be found on windows php net download  \\n     The list of changes is recorded in the ChangeLog \\n     \\n    \\n  \\n  \\n\\n  \\n    19 Jul 2018\\n    \\n      PHP 7 3 0alpha4 Released\\n    \\n  \\n  \\n    \\n      \\n        The PHP team is glad to announce the release of the fourth PHP 7 3 0 version  PHP 7 3 0alpha4 \\n        The rough outline of the PHP 7 3 release cycle is specified in the\\n        PHP Wiki \\n      \\n\\n      \\n        For source downloads of PHP 7 3 0alpha4 please visit the download page \\n        Windows sources and binaries can be found on windows php net qa  \\n      \\n\\n      \\n        Please carefully test this version and report any issues found in the bug reporting system \\n      \\n\\n      \\n        THIS IS A DEVELOPMENT PREVIEW   DO NOT USE IT IN PRODUCTION \\n      \\n\\n      \\n        For more information on the new features and other changes  you can read the\\n        NEWS file \\n        or the UPGRADING\\n        file for a complete list of upgrading notes  These files can also be found in the release archive \\n      \\n\\n      \\n        The next release would be Beta 1  planned for August 2nd \\n      \\n\\n      \\n        The signatures for the release can be found in the manifest or on the QA site \\n      \\n\\n      \\n        Thank you for helping us make PHP better \\n      \\n    \\n  \\n  \\n\\n  \\n    05 Jul 2018\\n    \\n      PHP 7 3 0 alpha 3 Released\\n    \\n  \\n  \\n    \\n     \\n      The PHP team is glad to announce the release of the third PHP 7 3 0 version  PHP 7 3 0 Alpha 3  \\n      The rough outline of the PHP 7 3 release cycle is specified in the \\n      PHP Wiki \\n     \\n\\n     \\n      For source downloads of PHP 7 3 0 Alpha 3 please visit the download page \\n      Windows sources and binaries can be found on windows php net qa  \\n     \\n\\n     \\n      Please carefully test this version and report any issues found in the bug reporting system \\n     \\n\\n     \\n      THIS IS A DEVELOPMENT PREVIEW   DO NOT USE IT IN PRODUCTION \\n     \\n\\n     \\n      For more information on the new features and other cha'"
      ]
     },
     "execution_count": 6,
     "metadata": {},
     "output_type": "execute_result"
    }
   ],
   "source": [
    "# Replace punctuations points in the text with space  \n",
    "\n",
    "punctuations = string.punctuation\n",
    "print(len(punctuations))\n",
    "\n",
    "text_no_punctuations = text_bullets_replaced.translate(str.maketrans(punctuations,\" \"*len(punctuations)))\n",
    "print(len(text_no_punctuations))\n",
    "text_no_punctuations[:10000]                                  "
   ]
  },
  {
   "cell_type": "code",
   "execution_count": 7,
   "metadata": {
    "ExecuteTime": {
     "end_time": "2018-08-25T19:20:41.441397Z",
     "start_time": "2018-08-25T19:20:41.426472Z"
    }
   },
   "outputs": [
    {
     "name": "stdout",
     "output_type": "stream",
     "text": [
      "19228\n"
     ]
    },
    {
     "data": {
      "text/plain": [
       "'\\n\\n  \\n   \\n\\n  PHP  Hypertext Preprocessor\\n\\n \\n \\n \\n \\n\\n \\n \\n \\n\\n\\n\\n\\n\\n\\n\\n\\n\\n \\n\\n \\n\\n \\n\\n \\n\\n \\n\\n\\n\\n\\n\\n  \\n    \\n    \\n    \\n    \\n      Downloads\\n      Documentation\\n      Get Involved\\n      Help\\n    \\n    \\n      \\n      \\n    \\n  \\n  \\n\\n\\nGetting Started\\n\\tIntroduction\\n\\tA simple tutorial\\nLanguage Reference\\n\\tBasic syntax\\n\\tTypes\\n\\tVariables\\n\\tConstants\\n\\tExpressions\\n\\tOperators\\n\\tControl Structures\\n\\tFunctions\\n\\tClasses and Objects\\n\\tNamespaces\\n\\tErrors\\n\\tExceptions\\n\\tGenerators\\n\\tReferences Explained\\n\\tPredefined Variables\\n\\tPredefined Exceptions\\n\\tPredefined Interfaces and Classes\\n\\tContext options and parameters\\n\\tSupported Protocols and Wrappers\\n\\n\\nSecurity\\n\\tIntroduction\\n\\tGeneral considerations\\n\\tInstalled as CGI binary\\n\\tInstalled as an Apache module\\n\\tSession Security\\n\\tFilesystem Security\\n\\tDatabase Security\\n\\tError Reporting\\n\\tUsing Register Globals\\n\\tUser Submitted Data\\n\\tMagic Quotes\\n\\tHiding PHP\\n\\tKeeping Current\\nFeatures\\n\\tHTTP authentication with PHP\\n\\tCookies\\n\\tSessions\\n\\tDealing with XForms\\n\\tHandling file uploads\\n\\tUsing remote files\\n\\tConnection handling\\n\\tPersistent Database Connections\\n\\tSafe Mode\\n\\tCommand line usage\\n\\tGarbage Collection\\n\\tDTrace Dynamic Tracing\\n\\n\\nFunction Reference\\n\\tAffecting PHP s Behaviour\\n\\tAudio Formats Manipulation\\n\\tAuthentication Services\\n\\tCommand Line Specific Extensions\\n\\tCompression and Archive Extensions\\n\\tCredit Card Processing\\n\\tCryptography Extensions\\n\\tDatabase Extensions\\n\\tDate and Time Related Extensions\\n\\tFile System Related Extensions\\n\\tHuman Language and Character Encoding Support\\n\\tImage Processing and Generation\\n\\tMail Related Extensions\\n\\tMathematical Extensions\\n\\tNon Text MIME Output\\n\\tProcess Control Extensions\\n\\tOther Basic Extensions\\n\\tOther Services\\n\\tSearch Engine Extensions\\n\\tServer Specific Extensions\\n\\tSession Extensions\\n\\tText Processing\\n\\tVariable and Type Related Extensions\\n\\tWeb Services\\n\\tWindows Only Extensions\\n\\tXML Manipulation\\n\\tGUI Extensions\\n\\n\\nKeyboard Shortcuts \\nThis help\\nj\\nNext menu item\\nk\\nPrevious menu item\\ng p\\nPrevious man page\\ng n\\nNext man page\\nG\\nScroll to bottom\\ng g\\nScroll to top\\ng h\\nGoto homepage\\ng s\\nGoto search current page \\n \\nFocus search box\\n\\n\\n    \\n         \\n         \\n   \\n\\n\\n\\n\\n\\n  \\n      \\n    \\n      PHP is a popular general purpose scripting language that is especially suited to web development \\n      Fast  flexible and pragmatic  PHP powers everything from your blog to the most popular websites in the world \\n    \\n    \\n      Download\\n\\n                   Release Notes Upgrading\\n\\n                   Release Notes Upgrading\\n\\n                   Release Notes Upgrading\\n\\n                  Release Notes Upgrading\\n\\n    \\n    \\n\\n\\n\\n\\n  \\n\\n  \\n       Aug     \\n    \\n      PHP        Released\\n    \\n  \\n  \\n    \\n         The PHP development team announces the immediate availability of PHP\\n                  This is a bugfix release \\n     \\n          All PHP     users are encouraged to upgrade to this version \\n          \\n     \\n          For source downloads of PHP        please visit our downloads page \\n          Windows source and binaries can be found on windows php net download  \\n          The list of changes is recorded in the ChangeLog \\n          \\n    \\n  \\n  \\n\\n  \\n       Aug     \\n    \\n      PHP       Released\\n    \\n  \\n  \\n    \\n     The PHP development team announces the immediate availability of PHP\\n            This is a bugfix release \\n     \\n     All PHP     users are encouraged to upgrade to this version \\n\\n     For source downloads of PHP       please visit our downloads page \\n     Windows source and binaries can be found on windows php net download  \\n     The list of changes is recorded in the ChangeLog \\n     \\n    \\n  \\n  \\n\\n  \\n       Aug     \\n    \\n      PHP       beta  Released\\n    \\n  \\n  \\n    \\n      \\n        The PHP team is glad to announce the release of the sixth PHP       version  PHP      beta  \\n        The rough outline of the PHP     release cycle is specified in the\\n        PHP Wiki \\n      \\n\\n      \\n        For source downloads of PHP      beta  please visit the download page \\n        Windows sources and binaries can be found on windows php net qa  \\n      \\n\\n      \\n        Please carefully test this version and report any issues found in the bug reporting system \\n      \\n\\n      \\n        THIS IS A DEVELOPMENT PREVIEW   DO NOT USE IT IN PRODUCTION \\n      \\n\\n      \\n        For more information on the new features and other changes  you can read the\\n        NEWS file \\n        or the UPGRADING\\n        file for a complete list of upgrading notes  Internal changes are listed in the\\n        UPGRADING INTERNALS file \\n        These files can also be found in the release archive \\n      \\n\\n      \\n        The next release would be Beta    planned for August   th \\n      \\n\\n      \\n        The signatures for the release can be found in the manifest\\n        or on the QA site \\n      \\n\\n      \\n        Thank you for helping us make PHP better \\n      \\n    \\n  \\n  \\n\\n  \\n       Aug     \\n    \\n      PHP       beta  Released\\n    \\n  \\n  \\n    \\n      \\n        The PHP team is glad to announce the release of the fifth PHP       version  PHP      beta  \\n        The rough outline of the PHP     release cycle is specified in the\\n        PHP Wiki \\n      \\n\\n      \\n        For source downloads of PHP      beta  please visit the download page \\n        Windows sources and binaries can be found on windows php net qa  \\n      \\n\\n      \\n        Please carefully test this version and report any issues found in the bug reporting system \\n      \\n\\n      \\n        THIS IS A DEVELOPMENT PREVIEW   DO NOT USE IT IN PRODUCTION \\n      \\n\\n      \\n        For more information on the new features and other changes  you can read the\\n        NEWS file \\n        or the UPGRADING\\n        file for a complete list of upgrading notes  These files can also be found in the release archive \\n      \\n\\n      \\n        The next release would be Beta    planned for August   th \\n      \\n\\n      \\n        The signatures for the release can be found in the manifest\\n        or on the QA site \\n      \\n\\n      \\n        Thank you for helping us make PHP better \\n      \\n\\n    \\n  \\n  \\n\\n  \\n       Jul     \\n    \\n      PHP        Released\\n    \\n  \\n  \\n    \\n         The PHP development team announces the immediate availability of PHP\\n                  This is a security release  Several security bugs have been fixed\\n          in this release \\n     \\n          All PHP     users are encouraged to upgrade to this version \\n          \\n     \\n          For source downloads of PHP        please visit our downloads page \\n          Windows source and binaries can be found on windows php net download  \\n          The list of changes is recorded in the ChangeLog \\n          \\n    \\n  \\n  \\n\\n  \\n       Jul     \\n    \\n      PHP        Released\\n    \\n  \\n  \\n    \\n     The PHP development team announces the immediate availability of PHP\\n                This is a security release  Several security bugs have been fixed\\n        in this release \\n\\n     All PHP     users are encouraged to upgrade to this version \\n\\n     For source downloads of PHP        please visit our downloads page \\n     Windows source and binaries can be found on windows php net download  \\n     The list of changes is recorded in the ChangeLog \\n     \\n    \\n  \\n  \\n\\n  \\n       Jul     \\n    \\n      PHP        Released\\n    \\n  \\n  \\n    \\n     The PHP development team announces the immediate availability of PHP\\n\\t        This is a security release  Several security bugs have been fixed\\n\\tin this release \\n     \\n     All PHP     users are encouraged to upgrade to this version \\n\\n     For source downloads of PHP        please visit our downloads page \\n     Windows source and binaries can be found on windows php net download  \\n     The list of changes is recorded in the ChangeLog \\n     \\n    \\n  \\n  \\n\\n  \\n       Jul     \\n    \\n      PHP       Released\\n    \\n  \\n  \\n    \\n     The PHP development team announces the immediate availability of PHP\\n            This is a security release which also contains several minor bug fixes \\n     \\n     All PHP     users are encouraged to upgrade to this version \\n\\n     For source downloads of PHP       please visit our downloads page \\n     Windows source and binaries can be found on windows php net download  \\n     The list of changes is recorded in the ChangeLog \\n     \\n    \\n  \\n  \\n\\n  \\n       Jul     \\n    \\n      PHP      alpha  Released\\n    \\n  \\n  \\n    \\n      \\n        The PHP team is glad to announce the release of the fourth PHP       version  PHP      alpha  \\n        The rough outline of the PHP     release cycle is specified in the\\n        PHP Wiki \\n      \\n\\n      \\n        For source downloads of PHP      alpha  please visit the download page \\n        Windows sources and binaries can be found on windows php net qa  \\n      \\n\\n      \\n        Please carefully test this version and report any issues found in the bug reporting system \\n      \\n\\n      \\n        THIS IS A DEVELOPMENT PREVIEW   DO NOT USE IT IN PRODUCTION \\n      \\n\\n      \\n        For more information on the new features and other changes  you can read the\\n        NEWS file \\n        or the UPGRADING\\n        file for a complete list of upgrading notes  These files can also be found in the release archive \\n      \\n\\n      \\n        The next release would be Beta    planned for August  nd \\n      \\n\\n      \\n        The signatures for the release can be found in the manifest or on the QA site \\n      \\n\\n      \\n        Thank you for helping us make PHP better \\n      \\n    \\n  \\n  \\n\\n  \\n       Jul     \\n    \\n      PHP       alpha   Released\\n    \\n  \\n  \\n    \\n     \\n      The PHP team is glad to announce the release of the third PHP       version  PHP       Alpha    \\n      The rough outline of the PHP     release cycle is specified in the \\n      PHP Wiki \\n     \\n\\n     \\n      For source downloads of PHP       Alpha   please visit the download page \\n      Windows sources and binaries can be found on windows php net qa  \\n     \\n\\n     \\n      Please carefully test this version and report any issues found in the bug reporting system \\n     \\n\\n     \\n      THIS IS A DEVELOPMENT PREVIEW   DO NOT USE IT IN PRODUCTION \\n     \\n\\n     \\n      For more information on the new features and other cha'"
      ]
     },
     "execution_count": 7,
     "metadata": {},
     "output_type": "execute_result"
    }
   ],
   "source": [
    "# Replace number symbols in the text with space  \n",
    "numbers = \"1234567890\"\n",
    "text_no_numbers = text_no_punctuations.translate(str.maketrans(numbers,\" \"*len(numbers))) \n",
    "print(len(text_no_numbers))\n",
    "text_no_numbers[:10000]   "
   ]
  },
  {
   "cell_type": "markdown",
   "metadata": {},
   "source": [
    "# Tokenize words"
   ]
  },
  {
   "cell_type": "code",
   "execution_count": 8,
   "metadata": {
    "ExecuteTime": {
     "end_time": "2018-08-25T19:20:43.336231Z",
     "start_time": "2018-08-25T19:20:41.446383Z"
    }
   },
   "outputs": [
    {
     "name": "stdout",
     "output_type": "stream",
     "text": [
      "[nltk_data] Downloading package punkt to\n",
      "[nltk_data]     C:\\Users\\Praveen\\AppData\\Roaming\\nltk_data...\n",
      "[nltk_data]   Package punkt is already up-to-date!\n",
      "2463\n",
      "['PHP', 'Hypertext', 'Preprocessor', 'Downloads', 'Documentation', 'Get', 'Involved', 'Help', 'Getting', 'Started', 'Introduction', 'A', 'simple', 'tutorial', 'Language', 'Reference', 'Basic', 'syntax', 'Types', 'Variables', 'Constants', 'Expressions', 'Operators', 'Control', 'Structures', 'Functions', 'Classes', 'and', 'Objects', 'Namespaces', 'Errors', 'Exceptions', 'Generators', 'References', 'Explained', 'Predefined', 'Variables', 'Predefined', 'Exceptions', 'Predefined', 'Interfaces', 'and', 'Classes', 'Context', 'options', 'and', 'parameters', 'Supported', 'Protocols', 'and', 'Wrappers', 'Security', 'Introduction', 'General', 'considerations', 'Installed', 'as', 'CGI', 'binary', 'Installed', 'as', 'an', 'Apache', 'module', 'Session', 'Security', 'Filesystem', 'Security', 'Database', 'Security', 'Error', 'Reporting', 'Using', 'Register', 'Globals', 'User', 'Submitted', 'Data', 'Magic', 'Quotes', 'Hiding', 'PHP', 'Keeping', 'Current', 'Features', 'HTTP', 'authentication', 'with', 'PHP', 'Cookies', 'Sessions', 'Dealing', 'with', 'XForms', 'Handling', 'file', 'uploads', 'Using', 'remote', 'files']\n"
     ]
    }
   ],
   "source": [
    "nltk.download('punkt')\n",
    "words  = nltk.word_tokenize(text_no_numbers) # we can also use wordpunct_tokenize() but we already cleaned the punctuations\n",
    "\n",
    "print(len(words))\n",
    "print(words[:100])"
   ]
  },
  {
   "cell_type": "markdown",
   "metadata": {},
   "source": [
    "# Clean the Tokenized Words List"
   ]
  },
  {
   "cell_type": "code",
   "execution_count": 9,
   "metadata": {
    "ExecuteTime": {
     "end_time": "2018-08-25T19:20:43.344210Z",
     "start_time": "2018-08-25T19:20:43.339237Z"
    },
    "scrolled": false
   },
   "outputs": [
    {
     "name": "stdout",
     "output_type": "stream",
     "text": [
      "2462\n",
      "['PHP', 'Hypertext', 'Preprocessor', 'Downloads', 'Documentation', 'Get', 'Involved', 'Help', 'Getting', 'Started', 'Introduction', 'A', 'simple', 'tutorial', 'Language', 'Reference', 'Basic', 'syntax', 'Types', 'Variables', 'Constants', 'Expressions', 'Operators', 'Control', 'Structures', 'Functions', 'Classes', 'and', 'Objects', 'Namespaces', 'Errors', 'Exceptions', 'Generators', 'References', 'Explained', 'Predefined', 'Variables', 'Predefined', 'Exceptions', 'Predefined', 'Interfaces', 'and', 'Classes', 'Context', 'options', 'and', 'parameters', 'Supported', 'Protocols', 'and', 'Wrappers', 'Security', 'Introduction', 'General', 'considerations', 'Installed', 'as', 'CGI', 'binary', 'Installed', 'as', 'an', 'Apache', 'module', 'Session', 'Security', 'Filesystem', 'Security', 'Database', 'Security', 'Error', 'Reporting', 'Using', 'Register', 'Globals', 'User', 'Submitted', 'Data', 'Magic', 'Quotes', 'Hiding', 'PHP', 'Keeping', 'Current', 'Features', 'HTTP', 'authentication', 'with', 'PHP', 'Cookies', 'Sessions', 'Dealing', 'with', 'XForms', 'Handling', 'file', 'uploads', 'Using', 'remote', 'files']\n"
     ]
    }
   ],
   "source": [
    "# Create word list by adding strings which are only alphabets \n",
    "words_only = [word for word in words if word.isalpha()] \n",
    "print(len(words_only))\n",
    "print(words_only[:100]) "
   ]
  },
  {
   "cell_type": "code",
   "execution_count": 10,
   "metadata": {
    "ExecuteTime": {
     "end_time": "2018-08-25T19:20:43.356180Z",
     "start_time": "2018-08-25T19:20:43.347203Z"
    },
    "scrolled": false
   },
   "outputs": [
    {
     "name": "stdout",
     "output_type": "stream",
     "text": [
      "2462\n",
      "['php', 'hypertext', 'preprocessor', 'downloads', 'documentation', 'get', 'involved', 'help', 'getting', 'started', 'introduction', 'a', 'simple', 'tutorial', 'language', 'reference', 'basic', 'syntax', 'types', 'variables', 'constants', 'expressions', 'operators', 'control', 'structures', 'functions', 'classes', 'and', 'objects', 'namespaces', 'errors', 'exceptions', 'generators', 'references', 'explained', 'predefined', 'variables', 'predefined', 'exceptions', 'predefined', 'interfaces', 'and', 'classes', 'context', 'options', 'and', 'parameters', 'supported', 'protocols', 'and', 'wrappers', 'security', 'introduction', 'general', 'considerations', 'installed', 'as', 'cgi', 'binary', 'installed', 'as', 'an', 'apache', 'module', 'session', 'security', 'filesystem', 'security', 'database', 'security', 'error', 'reporting', 'using', 'register', 'globals', 'user', 'submitted', 'data', 'magic', 'quotes', 'hiding', 'php', 'keeping', 'current', 'features', 'http', 'authentication', 'with', 'php', 'cookies', 'sessions', 'dealing', 'with', 'xforms', 'handling', 'file', 'uploads', 'using', 'remote', 'files']\n"
     ]
    }
   ],
   "source": [
    "# Convert words in the word list into lower case\n",
    "words_lower = [word.lower() for word in words_only]\n",
    "print(len(words_lower))\n",
    "print(words_lower[:100])"
   ]
  },
  {
   "cell_type": "markdown",
   "metadata": {},
   "source": [
    "## Calculate the Frequency of Words"
   ]
  },
  {
   "cell_type": "code",
   "execution_count": 11,
   "metadata": {
    "ExecuteTime": {
     "end_time": "2018-08-25T19:20:43.366179Z",
     "start_time": "2018-08-25T19:20:43.359181Z"
    },
    "scrolled": false
   },
   "outputs": [
    {
     "name": "stdout",
     "output_type": "stream",
     "text": [
      "332\n",
      "Counter({'the': 191, 'php': 141, 'of': 75, 'release': 68, 'for': 68, 'in': 57, 'and': 56, 'can': 50, 'this': 46, 'be': 45, 'is': 43, 'found': 40, 'on': 40, 'windows': 35, 'a': 30, 'to': 30, 'upgrading': 27, 'you': 27, 'downloads': 26, 'version': 26, 'file': 25, 'source': 25, 'please': 25, 'development': 23, 'list': 23, 'page': 21, 'released': 21, 'download': 19, 'net': 19, 'changes': 19, 'team': 18, 'visit': 18, 'alpha': 18, 'binaries': 17, 'or': 17, 'also': 17, 'extensions': 16, 'qa': 16, 'read': 16, 'notes': 15, 'beta': 15, 'other': 14, 'candidate': 14, 'are': 13, 'bug': 13, 'features': 12, 'files': 12, 'archive': 12, 'system': 12, 'announces': 12, 'immediate': 12, 'availability': 12, 'all': 12, 'users': 12, 'encouraged': 12, 'our': 12, 'test': 12, 'news': 12, 'security': 11, 'wiki': 11, 'carefully': 11, 'report': 11, 'any': 11, 'do': 11, 'not': 11, 'use': 11, 'it': 11, 'production': 11, 'information': 11, 'new': 11, 'complete': 11, 'these': 11, 'planned': 11, 'thank': 11, 'helping': 11, 'us': 11, 'make': 11, 'better': 11, 'next': 10, 'sources': 10, 'preview': 10, 'more': 10, 'th': 8, 'bugs': 8, 'reporting': 7, 'g': 7, 'upgrade': 7, 'recorded': 7, 'changelog': 7, 'jul': 7, 'aug': 6, 'glad': 6, 'announce': 6, 'rough': 6, 'outline': 6, 'cycle': 6, 'specified': 6, 'issues': 6, 'would': 6, 'signatures': 6, 'manifest': 6, 'site': 6, 'several': 5, 'incompatibilities': 5, 'tracking': 5, 'will': 5, 'full': 5, 'releases': 5, 'related': 4, 'august': 4, 'first': 4, 'at': 4, 'language': 3, 'predefined': 3, 'database': 3, 'with': 3, 'services': 3, 'processing': 3, 'search': 3, 'bugfix': 3, 'have': 3, 'been': 3, 'fixed': 3, 'fixes': 3, 'third': 3, 'july': 3, 'help': 2, 'started': 2, 'introduction': 2, 'reference': 2, 'basic': 2, 'variables': 2, 'control': 2, 'classes': 2, 'exceptions': 2, 'general': 2, 'installed': 2, 'as': 2, 'an': 2, 'session': 2, 'using': 2, 'user': 2, 'current': 2, 'authentication': 2, 'handling': 2, 'command': 2, 'line': 2, 's': 2, 'manipulation': 2, 'specific': 2, 'text': 2, 'web': 2, 'menu': 2, 'item': 2, 'previous': 2, 'man': 2, 'scroll': 2, 'goto': 2, 'popular': 2, 'world': 2, 'which': 2, 'contains': 2, 'fourth': 2, 'jun': 2, 'second': 2, 'rc': 2, 'announced': 2, 'october': 2, 'group': 2, 'sites': 2, 'hypertext': 1, 'preprocessor': 1, 'documentation': 1, 'get': 1, 'involved': 1, 'getting': 1, 'simple': 1, 'tutorial': 1, 'syntax': 1, 'types': 1, 'constants': 1, 'expressions': 1, 'operators': 1, 'structures': 1, 'functions': 1, 'objects': 1, 'namespaces': 1, 'errors': 1, 'generators': 1, 'references': 1, 'explained': 1, 'interfaces': 1, 'context': 1, 'options': 1, 'parameters': 1, 'supported': 1, 'protocols': 1, 'wrappers': 1, 'considerations': 1, 'cgi': 1, 'binary': 1, 'apache': 1, 'module': 1, 'filesystem': 1, 'error': 1, 'register': 1, 'globals': 1, 'submitted': 1, 'data': 1, 'magic': 1, 'quotes': 1, 'hiding': 1, 'keeping': 1, 'http': 1, 'cookies': 1, 'sessions': 1, 'dealing': 1, 'xforms': 1, 'uploads': 1, 'remote': 1, 'connection': 1, 'persistent': 1, 'connections': 1, 'safe': 1, 'mode': 1, 'usage': 1, 'garbage': 1, 'collection': 1, 'dtrace': 1, 'dynamic': 1, 'tracing': 1, 'function': 1, 'affecting': 1, 'behaviour': 1, 'audio': 1, 'formats': 1, 'compression': 1, 'credit': 1, 'card': 1, 'cryptography': 1, 'date': 1, 'time': 1, 'human': 1, 'character': 1, 'encoding': 1, 'support': 1, 'image': 1, 'generation': 1, 'mail': 1, 'mathematical': 1, 'non': 1, 'mime': 1, 'output': 1, 'process': 1, 'engine': 1, 'server': 1, 'variable': 1, 'type': 1, 'only': 1, 'xml': 1, 'gui': 1, 'keyboard': 1, 'shortcuts': 1, 'j': 1, 'k': 1, 'p': 1, 'n': 1, 'bottom': 1, 'top': 1, 'h': 1, 'homepage': 1, 'focus': 1, 'box': 1, 'purpose': 1, 'scripting': 1, 'that': 1, 'especially': 1, 'suited': 1, 'fast': 1, 'flexible': 1, 'pragmatic': 1, 'powers': 1, 'everything': 1, 'from': 1, 'your': 1, 'blog': 1, 'most': 1, 'websites': 1, 'sixth': 1, 'internal': 1, 'listed': 1, 'internals': 1, 'fifth': 1, 'minor': 1, 'nd': 1, 'starts': 1, 'early': 1, 'june': 1, 'feb': 1, 'included': 1, 'oct': 1, 'sep': 1, 'september': 1, 'final': 1, 'improvements': 1, 'relative': 1, 'older': 1, 'entries': 1, 'upcoming': 1, 'conferencesphp': 1, 'northeast': 1, 'boston': 1, 'zendcon': 1, 'openenterprise': 1, 'symfonycon': 1, 'lisbon': 1, 'conferences': 1, 'calling': 1, 'paperssunshinephp': 1, 'cfp': 1, 'events': 1, 'special': 1, 'thanks': 1, 'social': 1, 'media': 1, 'official': 1, 'copyright': 1, 'my': 1, 'contact': 1, 'mirror': 1, 'privacy': 1, 'policy': 1})\n"
     ]
    }
   ],
   "source": [
    "# Word Frequencies\n",
    "from collections import Counter\n",
    "word_freq_counter = Counter(words_lower)\n",
    "print(len(word_freq_counter))\n",
    "print(word_freq_counter)"
   ]
  },
  {
   "cell_type": "code",
   "execution_count": 12,
   "metadata": {
    "ExecuteTime": {
     "end_time": "2018-08-25T19:20:43.376125Z",
     "start_time": "2018-08-25T19:20:43.369151Z"
    }
   },
   "outputs": [
    {
     "name": "stdout",
     "output_type": "stream",
     "text": [
      "[('the', 191), ('php', 141), ('of', 75), ('release', 68), ('for', 68), ('in', 57), ('and', 56), ('can', 50), ('this', 46), ('be', 45), ('is', 43), ('found', 40), ('on', 40), ('windows', 35), ('a', 30), ('to', 30), ('upgrading', 27), ('you', 27), ('downloads', 26), ('version', 26), ('file', 25), ('source', 25), ('please', 25), ('development', 23), ('list', 23), ('page', 21), ('released', 21), ('download', 19), ('net', 19), ('changes', 19), ('team', 18), ('visit', 18), ('alpha', 18), ('binaries', 17), ('or', 17), ('also', 17), ('extensions', 16), ('qa', 16), ('read', 16), ('notes', 15), ('beta', 15), ('other', 14), ('candidate', 14), ('are', 13), ('bug', 13), ('features', 12), ('files', 12), ('archive', 12), ('system', 12), ('announces', 12)]\n"
     ]
    }
   ],
   "source": [
    "print(word_freq_counter.most_common(50))"
   ]
  },
  {
   "cell_type": "markdown",
   "metadata": {},
   "source": [
    "## Convert to Dictionary - To Create Dataframe Later"
   ]
  },
  {
   "cell_type": "code",
   "execution_count": 13,
   "metadata": {
    "ExecuteTime": {
     "end_time": "2018-08-25T19:20:43.385101Z",
     "start_time": "2018-08-25T19:20:43.379117Z"
    }
   },
   "outputs": [],
   "source": [
    "word_freq_dict = dict(word_freq_counter)"
   ]
  },
  {
   "cell_type": "markdown",
   "metadata": {},
   "source": [
    "# Notes:"
   ]
  },
  {
   "cell_type": "markdown",
   "metadata": {
    "ExecuteTime": {
     "end_time": "2018-08-24T12:05:02.653048Z",
     "start_time": "2018-08-24T12:05:02.649059Z"
    }
   },
   "source": [
    "***This word count dictionary can then be used to create a pandas dataframe for further manipulation.***"
   ]
  },
  {
   "cell_type": "markdown",
   "metadata": {
    "ExecuteTime": {
     "end_time": "2018-08-24T12:05:02.653048Z",
     "start_time": "2018-08-24T12:05:02.649059Z"
    }
   },
   "source": [
    "***However, notice that we haven't removed ntlk stopwords, nor have we lemmatized or stemmed the words.***"
   ]
  },
  {
   "cell_type": "markdown",
   "metadata": {},
   "source": [
    "# Further Cleaning Using NLTK- Remove Stopwords"
   ]
  },
  {
   "cell_type": "code",
   "execution_count": 14,
   "metadata": {
    "ExecuteTime": {
     "end_time": "2018-08-25T19:20:43.404057Z",
     "start_time": "2018-08-25T19:20:43.389094Z"
    }
   },
   "outputs": [
    {
     "name": "stdout",
     "output_type": "stream",
     "text": [
      "[nltk_data] Downloading package stopwords to\n",
      "[nltk_data]     C:\\Users\\Praveen\\AppData\\Roaming\\nltk_data...\n",
      "[nltk_data]   Package stopwords is already up-to-date!\n",
      "['i', 'me', 'my', 'myself', 'we', 'our', 'ours', 'ourselves', 'you', \"you're\", \"you've\", \"you'll\", \"you'd\", 'your', 'yours', 'yourself', 'yourselves', 'he', 'him', 'his', 'himself', 'she', \"she's\", 'her', 'hers', 'herself', 'it', \"it's\", 'its', 'itself', 'they', 'them', 'their', 'theirs', 'themselves', 'what', 'which', 'who', 'whom', 'this', 'that', \"that'll\", 'these', 'those', 'am', 'is', 'are', 'was', 'were', 'be', 'been', 'being', 'have', 'has', 'had', 'having', 'do', 'does', 'did', 'doing', 'a', 'an', 'the', 'and', 'but', 'if', 'or', 'because', 'as', 'until', 'while', 'of', 'at', 'by', 'for', 'with', 'about', 'against', 'between', 'into', 'through', 'during', 'before', 'after', 'above', 'below', 'to', 'from', 'up', 'down', 'in', 'out', 'on', 'off', 'over', 'under', 'again', 'further', 'then', 'once', 'here', 'there', 'when', 'where', 'why', 'how', 'all', 'any', 'both', 'each', 'few', 'more', 'most', 'other', 'some', 'such', 'no', 'nor', 'not', 'only', 'own', 'same', 'so', 'than', 'too', 'very', 's', 't', 'can', 'will', 'just', 'don', \"don't\", 'should', \"should've\", 'now', 'd', 'll', 'm', 'o', 're', 've', 'y', 'ain', 'aren', \"aren't\", 'couldn', \"couldn't\", 'didn', \"didn't\", 'doesn', \"doesn't\", 'hadn', \"hadn't\", 'hasn', \"hasn't\", 'haven', \"haven't\", 'isn', \"isn't\", 'ma', 'mightn', \"mightn't\", 'mustn', \"mustn't\", 'needn', \"needn't\", 'shan', \"shan't\", 'shouldn', \"shouldn't\", 'wasn', \"wasn't\", 'weren', \"weren't\", 'won', \"won't\", 'wouldn', \"wouldn't\"]\n"
     ]
    }
   ],
   "source": [
    "# Remove the stopwords\n",
    "nltk.download('stopwords')\n",
    "stopwords = nltk.corpus.stopwords.words('english')\n",
    "print(stopwords)"
   ]
  },
  {
   "cell_type": "code",
   "execution_count": 15,
   "metadata": {
    "ExecuteTime": {
     "end_time": "2018-08-25T19:20:43.420033Z",
     "start_time": "2018-08-25T19:20:43.409039Z"
    },
    "scrolled": false
   },
   "outputs": [
    {
     "name": "stdout",
     "output_type": "stream",
     "text": [
      "1539\n",
      "['php', 'hypertext', 'preprocessor', 'downloads', 'documentation', 'get', 'involved', 'help', 'getting', 'started', 'introduction', 'simple', 'tutorial', 'language', 'reference', 'basic', 'syntax', 'types', 'variables', 'constants', 'expressions', 'operators', 'control', 'structures', 'functions', 'classes', 'objects', 'namespaces', 'errors', 'exceptions', 'generators', 'references', 'explained', 'predefined', 'variables', 'predefined', 'exceptions', 'predefined', 'interfaces', 'classes', 'context', 'options', 'parameters', 'supported', 'protocols', 'wrappers', 'security', 'introduction', 'general', 'considerations', 'installed', 'cgi', 'binary', 'installed', 'apache', 'module', 'session', 'security', 'filesystem', 'security', 'database', 'security', 'error', 'reporting', 'using', 'register', 'globals', 'user', 'submitted', 'data', 'magic', 'quotes', 'hiding', 'php', 'keeping', 'current', 'features', 'http', 'authentication', 'php', 'cookies', 'sessions', 'dealing', 'xforms', 'handling', 'file', 'uploads', 'using', 'remote', 'files', 'connection', 'handling', 'persistent', 'database', 'connections', 'safe', 'mode', 'command', 'line', 'usage']\n"
     ]
    }
   ],
   "source": [
    "words_no_stopwords = [word for word in words_lower if word not in stopwords]\n",
    "print(len(words_no_stopwords))\n",
    "print(words_no_stopwords[:100])"
   ]
  },
  {
   "cell_type": "markdown",
   "metadata": {
    "ExecuteTime": {
     "end_time": "2018-08-25T17:48:42.458611Z",
     "start_time": "2018-08-25T17:48:42.453952Z"
    }
   },
   "source": [
    "# Further Cleaning Using NLTK- Lemmatize"
   ]
  },
  {
   "cell_type": "code",
   "execution_count": 16,
   "metadata": {
    "ExecuteTime": {
     "end_time": "2018-08-25T19:20:45.340902Z",
     "start_time": "2018-08-25T19:20:43.423997Z"
    },
    "scrolled": false
   },
   "outputs": [
    {
     "name": "stdout",
     "output_type": "stream",
     "text": [
      "1539\n",
      "['php', 'hypertext', 'preprocessor', 'downloads', 'documentation', 'get', 'involved', 'help', 'getting', 'started', 'introduction', 'simple', 'tutorial', 'language', 'reference', 'basic', 'syntax', 'type', 'variable', 'constant', 'expression', 'operator', 'control', 'structure', 'function', 'class', 'object', 'namespaces', 'error', 'exception', 'generator', 'reference', 'explained', 'predefined', 'variable', 'predefined', 'exception', 'predefined', 'interface', 'class', 'context', 'option', 'parameter', 'supported', 'protocol', 'wrapper', 'security', 'introduction', 'general', 'consideration', 'installed', 'cgi', 'binary', 'installed', 'apache', 'module', 'session', 'security', 'filesystem', 'security', 'database', 'security', 'error', 'reporting', 'using', 'register', 'globals', 'user', 'submitted', 'data', 'magic', 'quote', 'hiding', 'php', 'keeping', 'current', 'feature', 'http', 'authentication', 'php', 'cooky', 'session', 'dealing', 'xforms', 'handling', 'file', 'uploads', 'using', 'remote', 'file', 'connection', 'handling', 'persistent', 'database', 'connection', 'safe', 'mode', 'command', 'line', 'usage']\n"
     ]
    }
   ],
   "source": [
    "from nltk.stem.wordnet import WordNetLemmatizer\n",
    "lemmatizer = WordNetLemmatizer()\n",
    "words_lemmatized = [lemmatizer.lemmatize(word) for word in words_no_stopwords]\n",
    "print(len(words_lemmatized))\n",
    "print(words_lemmatized[:100])"
   ]
  },
  {
   "cell_type": "markdown",
   "metadata": {},
   "source": [
    "## Calculate the Frequency of Words"
   ]
  },
  {
   "cell_type": "code",
   "execution_count": 17,
   "metadata": {
    "ExecuteTime": {
     "end_time": "2018-08-25T19:20:45.351847Z",
     "start_time": "2018-08-25T19:20:45.343867Z"
    }
   },
   "outputs": [
    {
     "name": "stdout",
     "output_type": "stream",
     "text": [
      "279\n",
      "dict_items([('php', 141), ('hypertext', 1), ('preprocessor', 1), ('downloads', 26), ('documentation', 1), ('get', 1), ('involved', 1), ('help', 2), ('getting', 1), ('started', 2), ('introduction', 2), ('simple', 1), ('tutorial', 1), ('language', 3), ('reference', 3), ('basic', 2), ('syntax', 1), ('type', 2), ('variable', 3), ('constant', 1), ('expression', 1), ('operator', 1), ('control', 2), ('structure', 1), ('function', 2), ('class', 2), ('object', 1), ('namespaces', 1), ('error', 2), ('exception', 2), ('generator', 1), ('explained', 1), ('predefined', 3), ('interface', 1), ('context', 1), ('option', 1), ('parameter', 1), ('supported', 1), ('protocol', 1), ('wrapper', 1), ('security', 11), ('general', 2), ('consideration', 1), ('installed', 2), ('cgi', 1), ('binary', 18), ('apache', 1), ('module', 1), ('session', 3), ('filesystem', 1), ('database', 3), ('reporting', 7), ('using', 2), ('register', 1), ('globals', 1), ('user', 14), ('submitted', 1), ('data', 1), ('magic', 1), ('quote', 1), ('hiding', 1), ('keeping', 1), ('current', 2), ('feature', 12), ('http', 1), ('authentication', 2), ('cooky', 1), ('dealing', 1), ('xforms', 1), ('handling', 2), ('file', 37), ('uploads', 1), ('remote', 1), ('connection', 2), ('persistent', 1), ('safe', 1), ('mode', 1), ('command', 2), ('line', 2), ('usage', 1), ('garbage', 1), ('collection', 1), ('dtrace', 1), ('dynamic', 1), ('tracing', 1), ('affecting', 1), ('behaviour', 1), ('audio', 1), ('format', 1), ('manipulation', 2), ('service', 3), ('specific', 2), ('extension', 16), ('compression', 1), ('archive', 12), ('credit', 1), ('card', 1), ('processing', 3), ('cryptography', 1), ('date', 1), ('time', 1), ('related', 4), ('system', 12), ('human', 1), ('character', 1), ('encoding', 1), ('support', 1), ('image', 1), ('generation', 1), ('mail', 1), ('mathematical', 1), ('non', 1), ('text', 2), ('mime', 1), ('output', 1), ('process', 1), ('search', 3), ('engine', 1), ('server', 1), ('web', 2), ('window', 35), ('xml', 1), ('gui', 1), ('keyboard', 1), ('shortcut', 1), ('j', 1), ('next', 10), ('menu', 2), ('item', 2), ('k', 1), ('previous', 2), ('g', 7), ('p', 1), ('man', 2), ('page', 21), ('n', 1), ('scroll', 2), ('bottom', 1), ('top', 1), ('h', 1), ('goto', 2), ('homepage', 1), ('focus', 1), ('box', 1), ('popular', 2), ('purpose', 1), ('scripting', 1), ('especially', 1), ('suited', 1), ('development', 23), ('fast', 1), ('flexible', 1), ('pragmatic', 1), ('power', 1), ('everything', 1), ('blog', 1), ('website', 1), ('world', 2), ('download', 19), ('release', 73), ('note', 15), ('upgrading', 27), ('aug', 6), ('released', 21), ('team', 18), ('announces', 12), ('immediate', 12), ('availability', 12), ('bugfix', 3), ('encouraged', 12), ('upgrade', 7), ('version', 26), ('source', 35), ('please', 25), ('visit', 18), ('found', 40), ('net', 19), ('list', 23), ('change', 19), ('recorded', 7), ('changelog', 7), ('beta', 15), ('glad', 6), ('announce', 6), ('sixth', 1), ('rough', 6), ('outline', 6), ('cycle', 6), ('specified', 6), ('wiki', 11), ('qa', 16), ('carefully', 11), ('test', 12), ('report', 11), ('issue', 6), ('bug', 21), ('preview', 10), ('use', 11), ('production', 11), ('information', 11), ('new', 11), ('read', 16), ('news', 12), ('complete', 11), ('internal', 1), ('listed', 1), ('internals', 1), ('also', 17), ('would', 6), ('planned', 11), ('august', 4), ('th', 8), ('signature', 6), ('manifest', 6), ('site', 8), ('thank', 11), ('helping', 11), ('u', 11), ('make', 11), ('better', 11), ('fifth', 1), ('jul', 7), ('several', 5), ('fixed', 3), ('contains', 2), ('minor', 1), ('fix', 3), ('alpha', 18), ('fourth', 2), ('nd', 1), ('third', 3), ('july', 3), ('jun', 2), ('second', 2), ('first', 4), ('start', 1), ('early', 1), ('june', 1), ('feb', 1), ('included', 1), ('oct', 1), ('candidate', 14), ('rc', 2), ('incompatibility', 5), ('tracking', 5), ('announced', 2), ('october', 2), ('full', 5), ('sep', 1), ('september', 1), ('final', 1), ('improvement', 1), ('relative', 1), ('older', 1), ('entry', 1), ('upcoming', 1), ('conferencesphp', 1), ('northeast', 1), ('boston', 1), ('zendcon', 1), ('openenterprise', 1), ('symfonycon', 1), ('lisbon', 1), ('conference', 1), ('calling', 1), ('paperssunshinephp', 1), ('cfp', 1), ('group', 2), ('event', 1), ('special', 1), ('thanks', 1), ('social', 1), ('medium', 1), ('official', 1), ('copyright', 1), ('contact', 1), ('mirror', 1), ('privacy', 1), ('policy', 1)])\n"
     ]
    }
   ],
   "source": [
    "lemmatized_words_freqdist =  nltk.FreqDist(words_lemmatized)\n",
    "print(len(lemmatized_words_freqdist))\n",
    "print(lemmatized_words_freqdist.items())"
   ]
  },
  {
   "cell_type": "code",
   "execution_count": 18,
   "metadata": {
    "ExecuteTime": {
     "end_time": "2018-08-25T19:20:45.366818Z",
     "start_time": "2018-08-25T19:20:45.354837Z"
    }
   },
   "outputs": [
    {
     "name": "stdout",
     "output_type": "stream",
     "text": [
      "[('php', 141), ('release', 73), ('found', 40), ('file', 37), ('window', 35), ('source', 35), ('upgrading', 27), ('downloads', 26), ('version', 26), ('please', 25), ('development', 23), ('list', 23), ('page', 21), ('released', 21), ('bug', 21), ('download', 19), ('net', 19), ('change', 19), ('binary', 18), ('team', 18), ('visit', 18), ('alpha', 18), ('also', 17), ('extension', 16), ('qa', 16), ('read', 16), ('note', 15), ('beta', 15), ('user', 14), ('candidate', 14), ('feature', 12), ('archive', 12), ('system', 12), ('announces', 12), ('immediate', 12), ('availability', 12), ('encouraged', 12), ('test', 12), ('news', 12), ('security', 11), ('wiki', 11), ('carefully', 11), ('report', 11), ('use', 11), ('production', 11), ('information', 11), ('new', 11), ('complete', 11), ('planned', 11), ('thank', 11)]\n"
     ]
    }
   ],
   "source": [
    "print(lemmatized_words_freqdist.most_common(50))"
   ]
  },
  {
   "cell_type": "code",
   "execution_count": 19,
   "metadata": {
    "ExecuteTime": {
     "end_time": "2018-08-25T19:20:45.703904Z",
     "start_time": "2018-08-25T19:20:45.373800Z"
    }
   },
   "outputs": [
    {
     "data": {
      "image/png": "[encoded data removed]",
      "text/plain": [
       "<Figure size 1440x360 with 1 Axes>"
      ]
     },
     "metadata": {},
     "output_type": "display_data"
    }
   ],
   "source": [
    "plt.figure(figsize=(20,5))\n",
    "lemmatized_words_freqdist.plot(len(lemmatized_words_freqdist.most_common(50)))\n",
    "plt.show()"
   ]
  },
  {
   "cell_type": "markdown",
   "metadata": {},
   "source": [
    "## Convert Lemmatized Words FreqDist Object into a Dictionary  "
   ]
  },
  {
   "cell_type": "code",
   "execution_count": 20,
   "metadata": {
    "ExecuteTime": {
     "end_time": "2018-08-25T19:20:45.712883Z",
     "start_time": "2018-08-25T19:20:45.706925Z"
    }
   },
   "outputs": [
    {
     "name": "stdout",
     "output_type": "stream",
     "text": [
      "279\n",
      "{'php': 141, 'hypertext': 1, 'preprocessor': 1, 'downloads': 26, 'documentation': 1, 'get': 1, 'involved': 1, 'help': 2, 'getting': 1, 'started': 2, 'introduction': 2, 'simple': 1, 'tutorial': 1, 'language': 3, 'reference': 3, 'basic': 2, 'syntax': 1, 'type': 2, 'variable': 3, 'constant': 1, 'expression': 1, 'operator': 1, 'control': 2, 'structure': 1, 'function': 2, 'class': 2, 'object': 1, 'namespaces': 1, 'error': 2, 'exception': 2, 'generator': 1, 'explained': 1, 'predefined': 3, 'interface': 1, 'context': 1, 'option': 1, 'parameter': 1, 'supported': 1, 'protocol': 1, 'wrapper': 1, 'security': 11, 'general': 2, 'consideration': 1, 'installed': 2, 'cgi': 1, 'binary': 18, 'apache': 1, 'module': 1, 'session': 3, 'filesystem': 1, 'database': 3, 'reporting': 7, 'using': 2, 'register': 1, 'globals': 1, 'user': 14, 'submitted': 1, 'data': 1, 'magic': 1, 'quote': 1, 'hiding': 1, 'keeping': 1, 'current': 2, 'feature': 12, 'http': 1, 'authentication': 2, 'cooky': 1, 'dealing': 1, 'xforms': 1, 'handling': 2, 'file': 37, 'uploads': 1, 'remote': 1, 'connection': 2, 'persistent': 1, 'safe': 1, 'mode': 1, 'command': 2, 'line': 2, 'usage': 1, 'garbage': 1, 'collection': 1, 'dtrace': 1, 'dynamic': 1, 'tracing': 1, 'affecting': 1, 'behaviour': 1, 'audio': 1, 'format': 1, 'manipulation': 2, 'service': 3, 'specific': 2, 'extension': 16, 'compression': 1, 'archive': 12, 'credit': 1, 'card': 1, 'processing': 3, 'cryptography': 1, 'date': 1, 'time': 1, 'related': 4, 'system': 12, 'human': 1, 'character': 1, 'encoding': 1, 'support': 1, 'image': 1, 'generation': 1, 'mail': 1, 'mathematical': 1, 'non': 1, 'text': 2, 'mime': 1, 'output': 1, 'process': 1, 'search': 3, 'engine': 1, 'server': 1, 'web': 2, 'window': 35, 'xml': 1, 'gui': 1, 'keyboard': 1, 'shortcut': 1, 'j': 1, 'next': 10, 'menu': 2, 'item': 2, 'k': 1, 'previous': 2, 'g': 7, 'p': 1, 'man': 2, 'page': 21, 'n': 1, 'scroll': 2, 'bottom': 1, 'top': 1, 'h': 1, 'goto': 2, 'homepage': 1, 'focus': 1, 'box': 1, 'popular': 2, 'purpose': 1, 'scripting': 1, 'especially': 1, 'suited': 1, 'development': 23, 'fast': 1, 'flexible': 1, 'pragmatic': 1, 'power': 1, 'everything': 1, 'blog': 1, 'website': 1, 'world': 2, 'download': 19, 'release': 73, 'note': 15, 'upgrading': 27, 'aug': 6, 'released': 21, 'team': 18, 'announces': 12, 'immediate': 12, 'availability': 12, 'bugfix': 3, 'encouraged': 12, 'upgrade': 7, 'version': 26, 'source': 35, 'please': 25, 'visit': 18, 'found': 40, 'net': 19, 'list': 23, 'change': 19, 'recorded': 7, 'changelog': 7, 'beta': 15, 'glad': 6, 'announce': 6, 'sixth': 1, 'rough': 6, 'outline': 6, 'cycle': 6, 'specified': 6, 'wiki': 11, 'qa': 16, 'carefully': 11, 'test': 12, 'report': 11, 'issue': 6, 'bug': 21, 'preview': 10, 'use': 11, 'production': 11, 'information': 11, 'new': 11, 'read': 16, 'news': 12, 'complete': 11, 'internal': 1, 'listed': 1, 'internals': 1, 'also': 17, 'would': 6, 'planned': 11, 'august': 4, 'th': 8, 'signature': 6, 'manifest': 6, 'site': 8, 'thank': 11, 'helping': 11, 'u': 11, 'make': 11, 'better': 11, 'fifth': 1, 'jul': 7, 'several': 5, 'fixed': 3, 'contains': 2, 'minor': 1, 'fix': 3, 'alpha': 18, 'fourth': 2, 'nd': 1, 'third': 3, 'july': 3, 'jun': 2, 'second': 2, 'first': 4, 'start': 1, 'early': 1, 'june': 1, 'feb': 1, 'included': 1, 'oct': 1, 'candidate': 14, 'rc': 2, 'incompatibility': 5, 'tracking': 5, 'announced': 2, 'october': 2, 'full': 5, 'sep': 1, 'september': 1, 'final': 1, 'improvement': 1, 'relative': 1, 'older': 1, 'entry': 1, 'upcoming': 1, 'conferencesphp': 1, 'northeast': 1, 'boston': 1, 'zendcon': 1, 'openenterprise': 1, 'symfonycon': 1, 'lisbon': 1, 'conference': 1, 'calling': 1, 'paperssunshinephp': 1, 'cfp': 1, 'group': 2, 'event': 1, 'special': 1, 'thanks': 1, 'social': 1, 'medium': 1, 'official': 1, 'copyright': 1, 'contact': 1, 'mirror': 1, 'privacy': 1, 'policy': 1}\n"
     ]
    }
   ],
   "source": [
    "lemmatized_words_freq_dict =  dict(lemmatized_words_freqdist)\n",
    "print(len(lemmatized_words_freq_dict))\n",
    "print(lemmatized_words_freq_dict)"
   ]
  },
  {
   "cell_type": "markdown",
   "metadata": {},
   "source": [
    "# Further Cleaning Using NLTK- Stem (From Word List after removing Stopwords)"
   ]
  },
  {
   "cell_type": "code",
   "execution_count": 21,
   "metadata": {
    "ExecuteTime": {
     "end_time": "2018-08-25T19:20:45.750779Z",
     "start_time": "2018-08-25T19:20:45.716871Z"
    }
   },
   "outputs": [
    {
     "name": "stdout",
     "output_type": "stream",
     "text": [
      "1539\n",
      "['php', 'hypertext', 'preprocessor', 'download', 'document', 'get', 'involv', 'help', 'get', 'start', 'introduct', 'simpl', 'tutori', 'languag', 'refer', 'basic', 'syntax', 'type', 'variabl', 'constant', 'express', 'oper', 'control', 'structur', 'function', 'class', 'object', 'namespac', 'error', 'except', 'generat', 'refer', 'explain', 'predefin', 'variabl', 'predefin', 'except', 'predefin', 'interfac', 'class', 'context', 'option', 'paramet', 'support', 'protocol', 'wrapper', 'secur', 'introduct', 'general', 'consider', 'instal', 'cgi', 'binari', 'instal', 'apach', 'modul', 'session', 'secur', 'filesystem', 'secur', 'databas', 'secur', 'error', 'report', 'use', 'regist', 'global', 'user', 'submit', 'data', 'magic', 'quot', 'hide', 'php', 'keep', 'current', 'featur', 'http', 'authent', 'php', 'cooki', 'session', 'deal', 'xform', 'handl', 'file', 'upload', 'use', 'remot', 'file', 'connect', 'handl', 'persist', 'databas', 'connect', 'safe', 'mode', 'command', 'line', 'usag']\n"
     ]
    }
   ],
   "source": [
    "# Snowball Stemmer\n",
    "from nltk.stem import SnowballStemmer\n",
    "stemmer = SnowballStemmer('english')\n",
    "words_stemmed = [stemmer.stem(word) for word in words_no_stopwords]\n",
    "print(len(words_stemmed))\n",
    "print(words_stemmed[:100])"
   ]
  },
  {
   "cell_type": "markdown",
   "metadata": {},
   "source": [
    "## Calculate the Frequency of Words"
   ]
  },
  {
   "cell_type": "code",
   "execution_count": 22,
   "metadata": {
    "ExecuteTime": {
     "end_time": "2018-08-25T19:20:45.764743Z",
     "start_time": "2018-08-25T19:20:45.756773Z"
    }
   },
   "outputs": [
    {
     "name": "stdout",
     "output_type": "stream",
     "text": [
      "261\n",
      "dict_items([('php', 141), ('hypertext', 1), ('preprocessor', 1), ('download', 45), ('document', 1), ('get', 2), ('involv', 1), ('help', 13), ('start', 3), ('introduct', 2), ('simpl', 1), ('tutori', 1), ('languag', 3), ('refer', 3), ('basic', 2), ('syntax', 1), ('type', 2), ('variabl', 3), ('constant', 1), ('express', 1), ('oper', 1), ('control', 2), ('structur', 1), ('function', 2), ('class', 2), ('object', 1), ('namespac', 1), ('error', 2), ('except', 2), ('generat', 2), ('explain', 1), ('predefin', 3), ('interfac', 1), ('context', 1), ('option', 1), ('paramet', 1), ('support', 2), ('protocol', 1), ('wrapper', 1), ('secur', 11), ('general', 2), ('consider', 1), ('instal', 2), ('cgi', 1), ('binari', 18), ('apach', 1), ('modul', 1), ('session', 3), ('filesystem', 1), ('databas', 3), ('report', 18), ('use', 13), ('regist', 1), ('global', 1), ('user', 14), ('submit', 1), ('data', 1), ('magic', 1), ('quot', 1), ('hide', 1), ('keep', 1), ('current', 2), ('featur', 12), ('http', 1), ('authent', 2), ('cooki', 1), ('deal', 1), ('xform', 1), ('handl', 2), ('file', 37), ('upload', 1), ('remot', 1), ('connect', 2), ('persist', 1), ('safe', 1), ('mode', 1), ('command', 2), ('line', 2), ('usag', 1), ('garbag', 1), ('collect', 1), ('dtrace', 1), ('dynam', 1), ('trace', 1), ('affect', 1), ('behaviour', 1), ('audio', 1), ('format', 1), ('manipul', 2), ('servic', 3), ('specif', 2), ('extens', 16), ('compress', 1), ('archiv', 12), ('credit', 1), ('card', 1), ('process', 4), ('cryptographi', 1), ('date', 1), ('time', 1), ('relat', 5), ('system', 12), ('human', 1), ('charact', 1), ('encod', 1), ('imag', 1), ('mail', 1), ('mathemat', 1), ('non', 1), ('text', 2), ('mime', 1), ('output', 1), ('search', 3), ('engin', 1), ('server', 1), ('web', 2), ('window', 35), ('xml', 1), ('gui', 1), ('keyboard', 1), ('shortcut', 1), ('j', 1), ('next', 10), ('menu', 2), ('item', 2), ('k', 1), ('previous', 2), ('g', 7), ('p', 1), ('man', 2), ('page', 21), ('n', 1), ('scroll', 2), ('bottom', 1), ('top', 1), ('h', 1), ('goto', 2), ('homepag', 1), ('focus', 1), ('box', 1), ('popular', 2), ('purpos', 1), ('script', 1), ('especi', 1), ('suit', 1), ('develop', 23), ('fast', 1), ('flexibl', 1), ('pragmat', 1), ('power', 1), ('everyth', 1), ('blog', 1), ('websit', 1), ('world', 2), ('releas', 94), ('note', 15), ('upgrad', 34), ('aug', 6), ('team', 18), ('announc', 20), ('immedi', 12), ('avail', 12), ('bugfix', 3), ('encourag', 12), ('version', 26), ('sourc', 35), ('pleas', 25), ('visit', 18), ('found', 40), ('net', 19), ('list', 24), ('chang', 19), ('record', 7), ('changelog', 7), ('beta', 15), ('glad', 6), ('sixth', 1), ('rough', 6), ('outlin', 6), ('cycl', 6), ('specifi', 6), ('wiki', 11), ('qa', 16), ('care', 11), ('test', 12), ('issu', 6), ('bug', 21), ('preview', 10), ('product', 11), ('inform', 11), ('new', 11), ('read', 16), ('news', 12), ('complet', 11), ('intern', 2), ('also', 17), ('would', 6), ('plan', 11), ('august', 4), ('th', 8), ('signatur', 6), ('manifest', 6), ('site', 8), ('thank', 12), ('us', 11), ('make', 11), ('better', 11), ('fifth', 1), ('jul', 7), ('sever', 5), ('fix', 6), ('contain', 2), ('minor', 1), ('alpha', 18), ('fourth', 2), ('nd', 1), ('third', 3), ('juli', 3), ('jun', 2), ('second', 2), ('first', 4), ('earli', 1), ('june', 1), ('feb', 1), ('includ', 1), ('oct', 1), ('candid', 14), ('rc', 2), ('incompat', 5), ('track', 5), ('octob', 2), ('full', 5), ('sep', 1), ('septemb', 1), ('final', 1), ('improv', 1), ('older', 1), ('entri', 1), ('upcom', 1), ('conferencesphp', 1), ('northeast', 1), ('boston', 1), ('zendcon', 1), ('openenterpris', 1), ('symfonycon', 1), ('lisbon', 1), ('confer', 1), ('call', 1), ('paperssunshinephp', 1), ('cfp', 1), ('group', 2), ('event', 1), ('special', 1), ('social', 1), ('media', 1), ('offici', 1), ('copyright', 1), ('contact', 1), ('mirror', 1), ('privaci', 1), ('polici', 1)])\n"
     ]
    }
   ],
   "source": [
    "stemmed_words_freqdist =  nltk.FreqDist(words_stemmed)\n",
    "print(len(stemmed_words_freqdist))\n",
    "print(stemmed_words_freqdist.items())"
   ]
  },
  {
   "cell_type": "code",
   "execution_count": 23,
   "metadata": {
    "ExecuteTime": {
     "end_time": "2018-08-25T19:20:45.781697Z",
     "start_time": "2018-08-25T19:20:45.768734Z"
    }
   },
   "outputs": [
    {
     "name": "stdout",
     "output_type": "stream",
     "text": [
      "[('php', 141), ('releas', 94), ('download', 45), ('found', 40), ('file', 37), ('window', 35), ('sourc', 35), ('upgrad', 34), ('version', 26), ('pleas', 25), ('list', 24), ('develop', 23), ('page', 21), ('bug', 21), ('announc', 20), ('net', 19), ('chang', 19), ('binari', 18), ('report', 18), ('team', 18), ('visit', 18), ('alpha', 18), ('also', 17), ('extens', 16), ('qa', 16), ('read', 16), ('note', 15), ('beta', 15), ('user', 14), ('candid', 14), ('help', 13), ('use', 13), ('featur', 12), ('archiv', 12), ('system', 12), ('immedi', 12), ('avail', 12), ('encourag', 12), ('test', 12), ('news', 12), ('thank', 12), ('secur', 11), ('wiki', 11), ('care', 11), ('product', 11), ('inform', 11), ('new', 11), ('complet', 11), ('plan', 11), ('us', 11)]\n"
     ]
    }
   ],
   "source": [
    "print(stemmed_words_freqdist.most_common(50))"
   ]
  },
  {
   "cell_type": "code",
   "execution_count": 24,
   "metadata": {
    "ExecuteTime": {
     "end_time": "2018-08-25T19:20:46.102866Z",
     "start_time": "2018-08-25T19:20:45.787681Z"
    }
   },
   "outputs": [
    {
     "data": {
      "image/png": "[encoded data removed]",
      "text/plain": [
       "<Figure size 1440x360 with 1 Axes>"
      ]
     },
     "metadata": {},
     "output_type": "display_data"
    }
   ],
   "source": [
    "import matplotlib.pyplot as plt\n",
    "plt.figure(figsize=(20,5))\n",
    "stemmed_words_freqdist.plot(len(stemmed_words_freqdist.most_common(50)))\n",
    "plt.show()"
   ]
  },
  {
   "cell_type": "markdown",
   "metadata": {},
   "source": [
    "## Convert Stemmed Words FreqDist Object into a Dictionary  "
   ]
  },
  {
   "cell_type": "code",
   "execution_count": 25,
   "metadata": {
    "ExecuteTime": {
     "end_time": "2018-08-25T19:20:46.110819Z",
     "start_time": "2018-08-25T19:20:46.104833Z"
    }
   },
   "outputs": [
    {
     "name": "stdout",
     "output_type": "stream",
     "text": [
      "261\n",
      "{'php': 141, 'hypertext': 1, 'preprocessor': 1, 'download': 45, 'document': 1, 'get': 2, 'involv': 1, 'help': 13, 'start': 3, 'introduct': 2, 'simpl': 1, 'tutori': 1, 'languag': 3, 'refer': 3, 'basic': 2, 'syntax': 1, 'type': 2, 'variabl': 3, 'constant': 1, 'express': 1, 'oper': 1, 'control': 2, 'structur': 1, 'function': 2, 'class': 2, 'object': 1, 'namespac': 1, 'error': 2, 'except': 2, 'generat': 2, 'explain': 1, 'predefin': 3, 'interfac': 1, 'context': 1, 'option': 1, 'paramet': 1, 'support': 2, 'protocol': 1, 'wrapper': 1, 'secur': 11, 'general': 2, 'consider': 1, 'instal': 2, 'cgi': 1, 'binari': 18, 'apach': 1, 'modul': 1, 'session': 3, 'filesystem': 1, 'databas': 3, 'report': 18, 'use': 13, 'regist': 1, 'global': 1, 'user': 14, 'submit': 1, 'data': 1, 'magic': 1, 'quot': 1, 'hide': 1, 'keep': 1, 'current': 2, 'featur': 12, 'http': 1, 'authent': 2, 'cooki': 1, 'deal': 1, 'xform': 1, 'handl': 2, 'file': 37, 'upload': 1, 'remot': 1, 'connect': 2, 'persist': 1, 'safe': 1, 'mode': 1, 'command': 2, 'line': 2, 'usag': 1, 'garbag': 1, 'collect': 1, 'dtrace': 1, 'dynam': 1, 'trace': 1, 'affect': 1, 'behaviour': 1, 'audio': 1, 'format': 1, 'manipul': 2, 'servic': 3, 'specif': 2, 'extens': 16, 'compress': 1, 'archiv': 12, 'credit': 1, 'card': 1, 'process': 4, 'cryptographi': 1, 'date': 1, 'time': 1, 'relat': 5, 'system': 12, 'human': 1, 'charact': 1, 'encod': 1, 'imag': 1, 'mail': 1, 'mathemat': 1, 'non': 1, 'text': 2, 'mime': 1, 'output': 1, 'search': 3, 'engin': 1, 'server': 1, 'web': 2, 'window': 35, 'xml': 1, 'gui': 1, 'keyboard': 1, 'shortcut': 1, 'j': 1, 'next': 10, 'menu': 2, 'item': 2, 'k': 1, 'previous': 2, 'g': 7, 'p': 1, 'man': 2, 'page': 21, 'n': 1, 'scroll': 2, 'bottom': 1, 'top': 1, 'h': 1, 'goto': 2, 'homepag': 1, 'focus': 1, 'box': 1, 'popular': 2, 'purpos': 1, 'script': 1, 'especi': 1, 'suit': 1, 'develop': 23, 'fast': 1, 'flexibl': 1, 'pragmat': 1, 'power': 1, 'everyth': 1, 'blog': 1, 'websit': 1, 'world': 2, 'releas': 94, 'note': 15, 'upgrad': 34, 'aug': 6, 'team': 18, 'announc': 20, 'immedi': 12, 'avail': 12, 'bugfix': 3, 'encourag': 12, 'version': 26, 'sourc': 35, 'pleas': 25, 'visit': 18, 'found': 40, 'net': 19, 'list': 24, 'chang': 19, 'record': 7, 'changelog': 7, 'beta': 15, 'glad': 6, 'sixth': 1, 'rough': 6, 'outlin': 6, 'cycl': 6, 'specifi': 6, 'wiki': 11, 'qa': 16, 'care': 11, 'test': 12, 'issu': 6, 'bug': 21, 'preview': 10, 'product': 11, 'inform': 11, 'new': 11, 'read': 16, 'news': 12, 'complet': 11, 'intern': 2, 'also': 17, 'would': 6, 'plan': 11, 'august': 4, 'th': 8, 'signatur': 6, 'manifest': 6, 'site': 8, 'thank': 12, 'us': 11, 'make': 11, 'better': 11, 'fifth': 1, 'jul': 7, 'sever': 5, 'fix': 6, 'contain': 2, 'minor': 1, 'alpha': 18, 'fourth': 2, 'nd': 1, 'third': 3, 'juli': 3, 'jun': 2, 'second': 2, 'first': 4, 'earli': 1, 'june': 1, 'feb': 1, 'includ': 1, 'oct': 1, 'candid': 14, 'rc': 2, 'incompat': 5, 'track': 5, 'octob': 2, 'full': 5, 'sep': 1, 'septemb': 1, 'final': 1, 'improv': 1, 'older': 1, 'entri': 1, 'upcom': 1, 'conferencesphp': 1, 'northeast': 1, 'boston': 1, 'zendcon': 1, 'openenterpris': 1, 'symfonycon': 1, 'lisbon': 1, 'confer': 1, 'call': 1, 'paperssunshinephp': 1, 'cfp': 1, 'group': 2, 'event': 1, 'special': 1, 'social': 1, 'media': 1, 'offici': 1, 'copyright': 1, 'contact': 1, 'mirror': 1, 'privaci': 1, 'polici': 1}\n"
     ]
    }
   ],
   "source": [
    "stemmed_words_freq_dict =  dict(stemmed_words_freqdist)\n",
    "print(len(stemmed_words_freq_dict))\n",
    "print(stemmed_words_freq_dict)"
   ]
  },
  {
   "cell_type": "code",
   "execution_count": null,
   "metadata": {},
   "outputs": [],
   "source": []
  }
 ],
 "metadata": {
  "kernelspec": {
   "display_name": "Python 3",
   "language": "python",
   "name": "python3"
  },
  "language_info": {
   "codemirror_mode": {
    "name": "ipython",
    "version": 3
   },
   "file_extension": ".py",
   "mimetype": "text/x-python",
   "name": "python",
   "nbconvert_exporter": "python",
   "pygments_lexer": "ipython3",
   "version": "3.6.6"
  },
  "latex_envs": {
   "LaTeX_envs_menu_present": true,
   "autoclose": false,
   "autocomplete": true,
   "bibliofile": "biblio.bib",
   "cite_by": "apalike",
   "current_citInitial": 1,
   "eqLabelWithNumbers": true,
   "eqNumInitial": 1,
   "hotkeys": {
    "equation": "Ctrl-E",
    "itemize": "Ctrl-I"
   },
   "labels_anchors": false,
   "latex_user_defs": false,
   "report_style_numbering": false,
   "user_envs_cfg": false
  },
  "toc": {
   "base_numbering": 1,
   "nav_menu": {},
   "number_sections": true,
   "sideBar": true,
   "skip_h1_title": false,
   "title_cell": "Table of Contents",
   "title_sidebar": "Contents",
   "toc_cell": false,
   "toc_position": {},
   "toc_section_display": true,
   "toc_window_display": false
  }
 },
 "nbformat": 4,
 "nbformat_minor": 2
}
